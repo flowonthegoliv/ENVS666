{
  "nbformat": 4,
  "nbformat_minor": 0,
  "metadata": {
    "colab": {
      "name": "read_ENVS666.ipynb",
      "provenance": [],
      "authorship_tag": "ABX9TyOePCvWncoVTME5jvrAkhwK",
      "include_colab_link": true
    },
    "kernelspec": {
      "name": "python3",
      "display_name": "Python 3"
    }
  },
  "cells": [
    {
      "cell_type": "markdown",
      "metadata": {
        "id": "view-in-github",
        "colab_type": "text"
      },
      "source": [
        "<a href=\"https://colab.research.google.com/github/flowonthegoliv/ENVS666/blob/main/read_ENVS666.ipynb\" target=\"_parent\"><img src=\"https://colab.research.google.com/assets/colab-badge.svg\" alt=\"Open In Colab\"/></a>"
      ]
    },
    {
      "cell_type": "code",
      "metadata": {
        "id": "n6E8_YrQhyr9",
        "colab": {
          "base_uri": "https://localhost:8080/"
        },
        "outputId": "a55bcecb-6a83-4ef0-9c85-132ae7ec6f2d"
      },
      "source": [
        "filename = 'data/liverpool_ENVS666/Baltic_Triangle.csv' # here we can read in the DEFRA data\n",
        "# this reads in the data and tidies it up. Don't worry if you don't understand it! \n",
        "import pandas as pd\n",
        "import datetime\n",
        "import numpy as np\n",
        "url = f'https://raw.githubusercontent.com/flowonthegoliv/ENVS666/main/{filename}'\n",
        "df = pd.read_csv(url,skiprows=2,dtype='unicode')\n",
        "df = df.drop([0,1],axis=0)\n",
        "df[df.columns[0]] = pd.to_datetime(df[df.columns[0]])\n",
        "df = df.rename({df.columns[0]: 'Date & Time'},axis=1)\n",
        "df = df.rename({df.columns[1]: 'Nox'},axis=1)\n",
        "df = df.rename({df.columns[2]: 'CO'},axis=1)\n",
        "df = df.rename({df.columns[3]: 'PM01'},axis=1)\n",
        "df = df.rename({df.columns[4]: 'PM25'},axis=1)\n",
        "df = df.rename({df.columns[5]: 'PM10'},axis=1)\n",
        "df = df.rename({df.columns[6]: 'Temperature'},axis=1)\n",
        "df = df.rename({df.columns[7]: 'Humidity'},axis=1)\n",
        "df = df.rename({df.columns[8]: 'Pressure'},axis=1)\n",
        "df = df.replace(['NaN'],'9999')\n",
        "df = df[df.columns[range(0,df.shape[1])]].apply(pd.to_numeric)\n",
        "df[df.columns[0]] = pd.to_datetime(df[df.columns[0]]);\n",
        "df = df.replace([9999],np.nan)\n",
        "# this finished the complex bit - again don't worry I am just tidying\n",
        "\n",
        "print(df)"
      ],
      "execution_count": null,
      "outputs": [
        {
          "output_type": "stream",
          "text": [
            "             Date & Time    Nox  CO  ...  Temperature  Humidity  Pressure\n",
            "2    2021-02-28 01:15:00  47.80 NaN  ...         6.29     77.24    1037.0\n",
            "3    2021-02-28 01:30:00  42.59 NaN  ...         6.26     77.34    1037.0\n",
            "4    2021-02-28 01:45:00  45.55 NaN  ...         6.22     77.95    1037.0\n",
            "5    2021-02-28 02:00:00  47.21 NaN  ...         6.25     76.76    1037.0\n",
            "6    2021-02-28 02:15:00  55.21 NaN  ...         6.20     75.72    1037.0\n",
            "...                  ...    ...  ..  ...          ...       ...       ...\n",
            "1240 2021-03-12 22:45:00  67.26 NaN  ...         5.41     88.65     985.4\n",
            "1241 2021-03-12 23:00:00  89.03 NaN  ...         5.13     93.30     984.7\n",
            "1242 2021-03-12 23:15:00  96.61 NaN  ...         4.85     97.02     984.4\n",
            "1243 2021-03-12 23:30:00  86.74 NaN  ...         4.94     97.12     983.6\n",
            "1244 2021-03-12 23:45:00  69.16 NaN  ...         5.05     97.14     983.3\n",
            "\n",
            "[1243 rows x 9 columns]\n"
          ],
          "name": "stdout"
        }
      ]
    }
  ]
}