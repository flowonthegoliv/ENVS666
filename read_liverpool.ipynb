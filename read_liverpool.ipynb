{
  "nbformat": 4,
  "nbformat_minor": 0,
  "metadata": {
    "colab": {
      "name": "read_liverpool.ipynb",
      "provenance": [],
      "authorship_tag": "ABX9TyPNExST6rAHw6NR87DVkS0Q",
      "include_colab_link": true
    },
    "kernelspec": {
      "name": "python3",
      "display_name": "Python 3"
    }
  },
  "cells": [
    {
      "cell_type": "markdown",
      "metadata": {
        "id": "view-in-github",
        "colab_type": "text"
      },
      "source": [
        "<a href=\"https://colab.research.google.com/github/flowonthegoliv/ENVS666/blob/main/read_liverpool.ipynb\" target=\"_parent\"><img src=\"https://colab.research.google.com/assets/colab-badge.svg\" alt=\"Open In Colab\"/></a>"
      ]
    },
    {
      "cell_type": "code",
      "metadata": {
        "id": "DH47G46_mK6o",
        "outputId": "098abd67-f9b2-48ba-fa4e-67dfdf8effd3",
        "colab": {
          "base_uri": "https://localhost:8080/"
        }
      },
      "source": [
        "filename = 'data/liverpool_council/liv_no2.csv' # here we can read in the DEFRA data\n",
        "# this reads in the data and tidies it up. Don't worry if you don't understand it! \n",
        "import pandas as pd\n",
        "import datetime\n",
        "import numpy as np\n",
        "url = f'https://raw.githubusercontent.com/flowonthegoliv/ENVS666/main/{filename}'\n",
        "df = pd.read_csv(url,skiprows=2,dtype='unicode')\n",
        "df = df.drop([df.index[0] , df.index[1]])\n",
        "df.drop(df.tail(10).index,inplace=True)\n",
        "# df[df.columns[0]] = pd.to_datetime(df[df.columns[0]])\n",
        "df = df.rename({df.columns[0]: 'Date & Time'},axis=1)\n",
        "df = df.replace(['NaN'],'9999')\n",
        "df = df.reset_index(drop=True)\n",
        "for i in range (0,np.size(df,0)):\n",
        "  hour = np.int(df['Date & Time'][i][0:2]);\n",
        "  min = np.int(df['Date & Time'][i][3:5]);\n",
        "  day = np.int(df['Date & Time'][i][6:8])\n",
        "  month = np.int(df['Date & Time'][i][9:11])\n",
        "  year = np.int(df['Date & Time'][i][12:16])\n",
        "  if hour == 24: \n",
        "    hour =0;\n",
        "  d = datetime.datetime(year, month, day, hour, min)\n",
        "  df['Date & Time'][i]=d\n",
        "for i in range(1,df.shape[1]):\n",
        "  df.iloc[:, [i]] = df.iloc[:, [i]].apply(pd.to_numeric)\n",
        "df[df.columns[0]] = pd.to_datetime(df[df.columns[0]]);\n",
        "df = df.replace([9999],np.nan)\n",
        "# # this finished the complex bit - again don't worry I am just tidying \n"
      ],
      "execution_count": 48,
      "outputs": [
        {
          "output_type": "stream",
          "text": [
            "50   2020-10-01 12:45:00\n",
            "51   2020-10-01 13:00:00\n",
            "52   2020-10-01 13:15:00\n",
            "53   2020-10-01 13:30:00\n",
            "54   2020-10-01 13:45:00\n",
            "55   2020-10-01 14:00:00\n",
            "56   2020-10-01 14:15:00\n",
            "57   2020-10-01 14:30:00\n",
            "58   2020-10-01 14:45:00\n",
            "59   2020-10-01 15:00:00\n",
            "60   2020-10-01 15:15:00\n",
            "61   2020-10-01 15:30:00\n",
            "62   2020-10-01 15:45:00\n",
            "63   2020-10-01 16:00:00\n",
            "64   2020-10-01 16:15:00\n",
            "65   2020-10-01 16:30:00\n",
            "66   2020-10-01 16:45:00\n",
            "67   2020-10-01 17:00:00\n",
            "68   2020-10-01 17:15:00\n",
            "69   2020-10-01 17:30:00\n",
            "70   2020-10-01 17:45:00\n",
            "71   2020-10-01 18:00:00\n",
            "72   2020-10-01 18:15:00\n",
            "73   2020-10-01 18:30:00\n",
            "74   2020-10-01 18:45:00\n",
            "75   2020-10-01 19:00:00\n",
            "76   2020-10-01 19:15:00\n",
            "77   2020-10-01 19:30:00\n",
            "78   2020-10-01 19:45:00\n",
            "79   2020-10-01 20:00:00\n",
            "80   2020-10-01 20:15:00\n",
            "81   2020-10-01 20:30:00\n",
            "82   2020-10-01 20:45:00\n",
            "83   2020-10-01 21:00:00\n",
            "84   2020-10-01 21:15:00\n",
            "85   2020-10-01 21:30:00\n",
            "86   2020-10-01 21:45:00\n",
            "87   2020-10-01 22:00:00\n",
            "88   2020-10-01 22:15:00\n",
            "89   2020-10-01 22:30:00\n",
            "90   2020-10-01 22:45:00\n",
            "91   2020-10-01 23:00:00\n",
            "92   2020-10-01 23:15:00\n",
            "93   2020-10-01 23:30:00\n",
            "94   2020-10-01 23:45:00\n",
            "95   2020-10-02 00:00:00\n",
            "96   2020-10-02 00:15:00\n",
            "97   2020-10-02 00:30:00\n",
            "98   2020-10-02 00:45:00\n",
            "99   2020-10-02 01:00:00\n",
            "Name: Date & Time, dtype: datetime64[ns]\n"
          ],
          "name": "stdout"
        }
      ]
    },
    {
      "cell_type": "code",
      "metadata": {
        "id": "AiPynsa8CDLQ",
        "colab": {
          "base_uri": "https://localhost:8080/"
        },
        "outputId": "047ca3b7-63f2-44a6-bcec-789c0652335d"
      },
      "source": [
        ""
      ],
      "execution_count": null,
      "outputs": [
        {
          "output_type": "execute_result",
          "data": {
            "text/plain": [
              "5.865296528447445"
            ]
          },
          "metadata": {
            "tags": []
          },
          "execution_count": 38
        }
      ]
    },
    {
      "cell_type": "code",
      "metadata": {
        "id": "R_ZioKIwu3-r"
      },
      "source": [
        ""
      ],
      "execution_count": null,
      "outputs": []
    }
  ]
}