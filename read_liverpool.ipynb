{
  "nbformat": 4,
  "nbformat_minor": 0,
  "metadata": {
    "colab": {
      "name": "read_liverpool.ipynb",
      "provenance": [],
      "authorship_tag": "ABX9TyPD19F41aYwci95Y9dKuOA9",
      "include_colab_link": true
    },
    "kernelspec": {
      "name": "python3",
      "display_name": "Python 3"
    }
  },
  "cells": [
    {
      "cell_type": "markdown",
      "metadata": {
        "id": "view-in-github",
        "colab_type": "text"
      },
      "source": [
        "<a href=\"https://colab.research.google.com/github/flowonthegoliv/ENVS666/blob/main/read_liverpool.ipynb\" target=\"_parent\"><img src=\"https://colab.research.google.com/assets/colab-badge.svg\" alt=\"Open In Colab\"/></a>"
      ]
    },
    {
      "cell_type": "code",
      "metadata": {
        "id": "DH47G46_mK6o"
      },
      "source": [
        "filename = 'data/liverpool_council/liv_no2.csv' # here we can read in the DEFRA data\n",
        "# this reads in the data and tidies it up. Don't worry if you don't understand it! \n",
        "import pandas as pd\n",
        "import datetime\n",
        "import numpy as np\n",
        "url = f'https://raw.githubusercontent.com/flowonthegoliv/ENVS666/main/{filename}'\n",
        "df = pd.read_csv(url,skiprows=2,dtype='unicode')\n",
        "df = df.drop([df.index[0] , df.index[1]])\n",
        "df.drop(df.tail(10).index,inplace=True)\n",
        "# df[df.columns[0]] = pd.to_datetime(df[df.columns[0]])\n",
        "df = df.rename({df.columns[0]: 'Date & Time'},axis=1)\n",
        "df = df.replace(['NaN'],'9999')\n",
        "df = df.reset_index(drop=True)\n",
        "for i in range (0,np.size(df,0)):\n",
        "  hour = np.int(df['Date & Time'][i][0:2]);\n",
        "  min = np.int(df['Date & Time'][i][3:5]);\n",
        "  day = np.int(df['Date & Time'][i][6:8])\n",
        "  month = np.int(df['Date & Time'][i][9:11])\n",
        "  year = np.int(df['Date & Time'][i][12:16])\n",
        "  if hour == 24: \n",
        "    hour =0;\n",
        "  d = datetime.datetime(year, month, day, hour, min)\n",
        "  df['Date & Time'][i]=d\n",
        "df['Liverpool Clayton Square'] = df['Liverpool Clayton Square'].astype(float)\n",
        "df['Liverpool Lime Street'] = df['Liverpool Lime Street'].astype(float)\n",
        "df['Liverpool Speke Road'] = df['Liverpool Speke Road'].astype(float)\n",
        "df['Liverpool Edge Lane'] = df['Liverpool Edge Lane'].astype(float)\n",
        "df['Liverpool Everton Valley'] = df['Liverpool Everton Valley'].astype(float)\n",
        "df = df.replace(['No data'],'9999')\n",
        "df[df.columns[0]] = pd.to_datetime(df[df.columns[0]]);\n",
        "df = df.replace([9999],np.nan)\n",
        "# # this finished the complex bit - again don't worry I am just tidying \n"
      ],
      "execution_count": 36,
      "outputs": []
    },
    {
      "cell_type": "code",
      "metadata": {
        "id": "AiPynsa8CDLQ",
        "outputId": "047ca3b7-63f2-44a6-bcec-789c0652335d",
        "colab": {
          "base_uri": "https://localhost:8080/"
        }
      },
      "source": [
        ""
      ],
      "execution_count": 38,
      "outputs": [
        {
          "output_type": "execute_result",
          "data": {
            "text/plain": [
              "5.865296528447445"
            ]
          },
          "metadata": {
            "tags": []
          },
          "execution_count": 38
        }
      ]
    },
    {
      "cell_type": "code",
      "metadata": {
        "id": "R_ZioKIwu3-r"
      },
      "source": [
        ""
      ],
      "execution_count": null,
      "outputs": []
    }
  ]
}