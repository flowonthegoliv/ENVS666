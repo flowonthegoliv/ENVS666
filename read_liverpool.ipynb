{
  "nbformat": 4,
  "nbformat_minor": 0,
  "metadata": {
    "colab": {
      "name": "read_liverpool.ipynb",
      "provenance": [],
      "authorship_tag": "ABX9TyNyntOSq9Mw0nVJc3bRTJMJ",
      "include_colab_link": true
    },
    "kernelspec": {
      "name": "python3",
      "display_name": "Python 3"
    }
  },
  "cells": [
    {
      "cell_type": "markdown",
      "metadata": {
        "id": "view-in-github",
        "colab_type": "text"
      },
      "source": [
        "<a href=\"https://colab.research.google.com/github/flowonthegoliv/ENVS666/blob/main/read_liverpool.ipynb\" target=\"_parent\"><img src=\"https://colab.research.google.com/assets/colab-badge.svg\" alt=\"Open In Colab\"/></a>"
      ]
    },
    {
      "cell_type": "code",
      "metadata": {
        "id": "DH47G46_mK6o"
      },
      "source": [
        "filename = 'data/liverpool_council/liv_no2.csv' # here we can read in the DEFRA data\n",
        "# this reads in the data and tidies it up. Don't worry if you don't understand it! \n",
        "import pandas as pd\n",
        "import datetime\n",
        "import numpy as np\n",
        "url = f'https://raw.githubusercontent.com/flowonthegoliv/ENVS666/main/{filename}'\n",
        "df = pd.read_csv(url,skiprows=2,dtype='unicode')\n",
        "df = df.drop([0,1],axis=0)\n",
        "df[df.columns[0]] = pd.to_datetime(df[df.columns[0]])\n",
        "df = df.rename({df.columns[0]: 'Date & Time'},axis=1)\n",
        "df = df.replace(['NaN'],'9999')\n",
        "df = df[df.columns[range(0,df.shape[1])]].apply(pd.to_numeric)\n",
        "df[df.columns[0]] = pd.to_datetime(df[df.columns[0]]);\n",
        "df = df.replace([9999],np.nan)\n",
        "# this finished the complex bit - again don't worry I am just tidying "
      ],
      "execution_count": 32,
      "outputs": []
    }
  ]
}