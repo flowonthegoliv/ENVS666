{
  "nbformat": 4,
  "nbformat_minor": 0,
  "metadata": {
    "colab": {
      "name": "Tutorial_1.ipynb",
      "provenance": [],
      "authorship_tag": "ABX9TyPghUFI2oiFFgV2goSND4JI",
      "include_colab_link": true
    },
    "kernelspec": {
      "name": "python3",
      "display_name": "Python 3"
    }
  },
  "cells": [
    {
      "cell_type": "markdown",
      "metadata": {
        "id": "view-in-github",
        "colab_type": "text"
      },
      "source": [
        "<a href=\"https://colab.research.google.com/github/flowonthegoliv/ENVS666/blob/main/Tutorial_1.ipynb\" target=\"_parent\"><img src=\"https://colab.research.google.com/assets/colab-badge.svg\" alt=\"Open In Colab\"/></a>"
      ]
    },
    {
      "cell_type": "markdown",
      "metadata": {
        "id": "3w1AfafW4Tx_"
      },
      "source": [
        "# Computer Practical 1 \n",
        "\n",
        "Aim of the practical session:\n",
        "\n",
        "1. To learn the basics of Python\n",
        "2. To understand logic operations \n",
        "3. To create some simple plots\n",
        "4. To be able to read data in from *.csv files\n",
        "5. To create some simple statistics \n",
        "\n",
        "Welcome to your *first* course in Python. In this course we are going to learn the very basics of Python programming and then begin to apply these techniques to the data we've collected and from other data sources relating to the city's air pollution. So let's start with Python, what is Python? \n",
        "\n",
        "Python is a language which is multiplatform and does not require to be compiled. Compiling means that sometimes get the computer to translate the programming language in a certain machine lexicon for the computer to understand. Thankfully we do not need to do this for Python, this is the one of its major advantages. \n",
        "\n",
        "In this module we will be using Google Colabs; this is a brilliant tool as it means that all computations are not done on your local computer, but they are done online on Google's servers. However, if you do want to install Python locally on your computer this is possible, in most cases it will actually already be installed as many background programmes use Python in their day to day operations on computers. If you have any questions about installing this please ask and I can guide you through the route to do this. Okay, so we are now programming in something called a notebook inside of the notebook we have a play sign which when clicked will send the operation to be computed. In the example below we allocate a letter to a number this means that that we can undertake simple operations based on numbers. This is similar to something you might see in Excel however opposed to using cell numbers we are now allocating letters for each number. On a side note you will also see the pound sign or hashtag sign (#) used before some text. This allows us to write or comment in a programme and the computer will completely ignore it. Here we use the letters a, b and c...you can use anyting you would like. In this tutorial I will be writing over these values in the different cells; if you do not write over them the computer will remember...\n",
        "\n",
        "# Basic Operations"
      ]
    },
    {
      "cell_type": "code",
      "metadata": {
        "colab": {
          "base_uri": "https://localhost:8080/"
        },
        "id": "YyQVXe0WUOEU",
        "outputId": "e91849ff-51af-45af-dd7a-53bd35fddc14"
      },
      "source": [
        "#first example (addition & subtraction):\n",
        "a = 3\n",
        "b = 2\n",
        "c = a + b - a\n",
        "#to see the answer we need to tell the computer to print it on screen:\n",
        "print(c)"
      ],
      "execution_count": null,
      "outputs": [
        {
          "output_type": "stream",
          "text": [
            "2\n"
          ],
          "name": "stdout"
        }
      ]
    },
    {
      "cell_type": "code",
      "metadata": {
        "colab": {
          "base_uri": "https://localhost:8080/"
        },
        "id": "OYCN7UXWjit2",
        "outputId": "10ff02dd-b5c1-4712-bf6c-a68d173ffd50"
      },
      "source": [
        "#second example (multiplication and division):\n",
        "a = 2\n",
        "b = 3\n",
        "c = (b*a)/a \n",
        "c = a**2 #power of \n",
        "print(c)"
      ],
      "execution_count": null,
      "outputs": [
        {
          "output_type": "stream",
          "text": [
            "4\n"
          ],
          "name": "stdout"
        }
      ]
    },
    {
      "cell_type": "markdown",
      "metadata": {
        "id": "u-qEpQPgUPXi"
      },
      "source": [
        "# Libraries \n",
        "\n",
        "So actually, the language Python alone is rather stupid, alone it only has very simple operations such as adding, dividing and multiplying. To increase the flexibility of the language we need to introduce libraries. So, what do I mean by a library? A library is a set of pre-programmed routines which have been programmed already for you for example if we were to calculate the mean of a number we could do this quite easily by using some of Python is built in routines of addition and division. However, this only works if we have a small set of numbers:"
      ]
    },
    {
      "cell_type": "code",
      "metadata": {
        "colab": {
          "base_uri": "https://localhost:8080/"
        },
        "id": "26oO9BdYUL2u",
        "outputId": "e65ad4c8-22d9-4ac4-b23f-b73504ada301"
      },
      "source": [
        "#calculating the mean\n",
        "a = (1 + 2 + 3 + 4 + 9)/5\n",
        "print(a)"
      ],
      "execution_count": null,
      "outputs": [
        {
          "output_type": "stream",
          "text": [
            "3.8\n"
          ],
          "name": "stdout"
        }
      ]
    },
    {
      "cell_type": "markdown",
      "metadata": {
        "id": "ZdAO7q8Tl-YC"
      },
      "source": [
        "Instead, now if we used one of the most commonly used libraries (numpy) we can perform all sorts of mathematical operations. These range from simple tasks from means an average is all the way open to extremely complex linear algebra functions. We can import the library as shown below. Here we import the library with the name (np) and we can call that function whenever we like. \n",
        "\n"
      ]
    },
    {
      "cell_type": "code",
      "metadata": {
        "colab": {
          "base_uri": "https://localhost:8080/"
        },
        "id": "j1r8B5ZtmYhL",
        "outputId": "c747f4ad-306c-4d24-b773-ff38dcea38ec"
      },
      "source": [
        "import numpy as np\n",
        "#calculating the mean\n",
        "a = np.mean([1,2,3,4,9])\n",
        "print(a)\n",
        "#calculating the median \n",
        "a = np.median([1,2,3,4,9])\n",
        "print(a)\n",
        "#calculating the standard deviation \n",
        "a = np.std([1,2,3,4,9])\n",
        "print(a)\n",
        "# calculating max\n",
        "a = np.max([1,2,3,4,9])\n",
        "print(a)"
      ],
      "execution_count": 3,
      "outputs": [
        {
          "output_type": "stream",
          "text": [
            "3.8\n",
            "3.0\n",
            "2.785677655436824\n",
            "9\n"
          ],
          "name": "stdout"
        }
      ]
    },
    {
      "cell_type": "markdown",
      "metadata": {
        "id": "k0bW-4-jnDYY"
      },
      "source": [
        "These are just a select few of some of the functions which can be called. There are millions of different functions inside of numpy the best way to find these is by looking into the documentation which can be found at this link: \n",
        "\n",
        "https://numpy.org/doc/stable/user/absolute_beginners.html\n",
        "\n",
        "There are many different libraries which have very similar or the same tools and the best way to find a tool for which you want to apply to your data is simply by using Google. Of course you can always ask myself or one of the facilitators however we might give different answers based on our background of use of different libraries (Quite likely we will probably Google the library first too!).\n",
        "\n"
      ]
    },
    {
      "cell_type": "markdown",
      "metadata": {
        "id": "eKSifAw04QHT"
      },
      "source": [
        "# Arrays\n",
        "The next thing we're going to work on is how we can store multiple numbers in a single array. An array mathematically represents something called a vector, in Python we do this using the square brackets.  \n",
        "\n"
      ]
    },
    {
      "cell_type": "code",
      "metadata": {
        "colab": {
          "base_uri": "https://localhost:8080/"
        },
        "id": "i9iM0RI7uc8i",
        "outputId": "5e215615-151d-409d-9a6f-14a3ac354c3a"
      },
      "source": [
        "# creating an array \n",
        "a = [1,2,5,3,8]\n",
        "print(a)\n",
        "# print(a[2])"
      ],
      "execution_count": null,
      "outputs": [
        {
          "output_type": "stream",
          "text": [
            "[1, 2, 5, 3, 8]\n"
          ],
          "name": "stdout"
        }
      ]
    },
    {
      "cell_type": "code",
      "metadata": {
        "colab": {
          "base_uri": "https://localhost:8080/"
        },
        "id": "Kn7A2L5Mut4M",
        "outputId": "e8b531ac-0324-4056-9b1a-9bced2bbbab0"
      },
      "source": [
        "import numpy as np\n",
        "#using the array\n",
        "b = np.mean(a);\n",
        "print(b)"
      ],
      "execution_count": null,
      "outputs": [
        {
          "output_type": "stream",
          "text": [
            "3.8\n"
          ],
          "name": "stdout"
        }
      ]
    },
    {
      "cell_type": "markdown",
      "metadata": {
        "id": "q9gSZO1dxh9g"
      },
      "source": [
        "If we want to access any of the numbers in the array, we can do this by using their index...annoyingly computers start couting from 0 so to retreive the first value in the array we would say:"
      ]
    },
    {
      "cell_type": "code",
      "metadata": {
        "colab": {
          "base_uri": "https://localhost:8080/"
        },
        "id": "K0MRPOAbxuSP",
        "outputId": "d582a3e6-6547-40f7-dd18-10ce8a86903d"
      },
      "source": [
        "a = [1,2,5,3,8]\n",
        "#this will retrieve the first value in the array\n",
        "print(a[4])\n",
        "#you can change this number to retrieve any number. "
      ],
      "execution_count": null,
      "outputs": [
        {
          "output_type": "stream",
          "text": [
            "8\n"
          ],
          "name": "stdout"
        }
      ]
    },
    {
      "cell_type": "markdown",
      "metadata": {
        "id": "Iq-CkWYFvaEp"
      },
      "source": [
        "As of present this array just has one dimension. However, sometimes we might want the array to a second dimension. This is what we could call a matrix:"
      ]
    },
    {
      "cell_type": "code",
      "metadata": {
        "colab": {
          "base_uri": "https://localhost:8080/"
        },
        "id": "O2muWJ5gvknj",
        "outputId": "186efd01-6f1a-491f-bb17-0978f5347dd4"
      },
      "source": [
        "#here we now have a two dimensional array of size 3 x 4\n",
        "a = [[1,2,3,4], [2,3,4,5], [3,2,3,4]]\n",
        "print(a)"
      ],
      "execution_count": null,
      "outputs": [
        {
          "output_type": "stream",
          "text": [
            "[[1, 2, 3, 4], [2, 3, 4, 5], [3, 2, 3, 4]]\n"
          ],
          "name": "stdout"
        }
      ]
    },
    {
      "cell_type": "code",
      "metadata": {
        "colab": {
          "base_uri": "https://localhost:8080/"
        },
        "id": "UbwKv77dyFd7",
        "outputId": "d3ebcf2b-3963-4b82-d665-3cf2153b260b"
      },
      "source": [
        "import numpy as np\n",
        "#you can check the size of the matrix by using:\n",
        "c = np.shape(a)\n",
        "print(c)"
      ],
      "execution_count": null,
      "outputs": [
        {
          "output_type": "stream",
          "text": [
            "(3, 4)\n"
          ],
          "name": "stdout"
        }
      ]
    },
    {
      "cell_type": "markdown",
      "metadata": {
        "id": "dP8qW_b6xKPU"
      },
      "source": [
        "We can think of this perhaps as a table; here the table has three rows and four columns. Annoyingly in computing we always define the size of matrix the opposite way that you are used to. Remember reinforced concrete (RC)...if you forget! Now we have a table it means we can take the mean in two directions:"
      ]
    },
    {
      "cell_type": "code",
      "metadata": {
        "colab": {
          "base_uri": "https://localhost:8080/"
        },
        "id": "-ZwzLuNPyMsd",
        "outputId": "6cc554a8-489b-4c4e-eebd-2bc6f77b01ca"
      },
      "source": [
        "import numpy as np\n",
        "#this takes the mean across the rows (note we use 0 to denote the first dimension)\n",
        "a = [[1,2,3,4], [2,3,4,5], [3,2,3,4]]\n",
        "c_1 = np.mean(a,0)\n",
        "print(c_1)"
      ],
      "execution_count": null,
      "outputs": [
        {
          "output_type": "stream",
          "text": [
            "[2.         2.33333333 3.33333333 4.33333333]\n"
          ],
          "name": "stdout"
        }
      ]
    },
    {
      "cell_type": "code",
      "metadata": {
        "colab": {
          "base_uri": "https://localhost:8080/"
        },
        "id": "aeog6TpryY7P",
        "outputId": "340988c1-8960-475a-a15d-b6ad22f3955f"
      },
      "source": [
        "import numpy as np\n",
        "a = [[1,2,3,4], [2,3,4,5], [3,2,3,4]]\n",
        "c_2 = np.mean(a,1)\n",
        "print(c_2)"
      ],
      "execution_count": null,
      "outputs": [
        {
          "output_type": "stream",
          "text": [
            "[2.5 3.5 3. ]\n"
          ],
          "name": "stdout"
        }
      ]
    },
    {
      "cell_type": "markdown",
      "metadata": {
        "id": "lG_GcFl0yhkZ"
      },
      "source": [
        "These are both really handy operations for quickly looking at statistics of the the data we have, for example in the pollution data we might have time store in the rows data and days stored in the rows. This would quickly allow us to access these statistics. If we wanted to find the mean of the whole matrix, we could do this in one of two ways nesting the functions inside one another:"
      ]
    },
    {
      "cell_type": "code",
      "metadata": {
        "colab": {
          "base_uri": "https://localhost:8080/"
        },
        "id": "BgXDw3JL1Wz2",
        "outputId": "b7072565-6614-4822-f2d9-1f2e53f427b9"
      },
      "source": [
        "import numpy as np\n",
        "#we could do this by taking the mean in both direction\n",
        "a = [[1,2,3,4], [2,3,4,5], [3,2,3,4]]\n",
        "c = np.mean(np.mean(a,1),0)\n",
        "print(c)"
      ],
      "execution_count": null,
      "outputs": [
        {
          "output_type": "stream",
          "text": [
            "3.0\n"
          ],
          "name": "stdout"
        }
      ]
    },
    {
      "cell_type": "code",
      "metadata": {
        "colab": {
          "base_uri": "https://localhost:8080/"
        },
        "id": "_BhPjxTN25Rb",
        "outputId": "ed91f7ee-76c2-4694-8101-1daf83e233f5"
      },
      "source": [
        "import numpy as np\n",
        "#or we can do it by converting (unravelling) the matrix:\n",
        "a = [[1,2,3,4], [2,3,4,5], [3,2,3,4]]\n",
        "c = np.mean(np.ravel(a),0)\n",
        "print(c)"
      ],
      "execution_count": null,
      "outputs": [
        {
          "output_type": "stream",
          "text": [
            "3.0\n"
          ],
          "name": "stdout"
        }
      ]
    },
    {
      "cell_type": "markdown",
      "metadata": {
        "id": "iHSB5jRF3Jt0"
      },
      "source": [
        "# Loops\n",
        "\n",
        "One of the quirks of Python means that we have to be very careful with indentations. When creating a loop everything inside of the loop must be indented. Once we have finished the loop we stop this indentation. This must be done with the tab key and not with the space bar. Python will not run a programme inside of a loop if the indentation is not correct. This is implemented in Python to ensure that when people code they code in a neat fashion. In languages such as C and matlab there is no requirement for indentations, this often means open brackets especially in my case closed brackets the codes which can be used are often very messy\n",
        "\n",
        "One of the next things we will introduce is the use of loops. A loop is really useful and is common in every computing language. What a loop allows us to do is to repeat the same operation a number of times. This is done either with a for loop where we set the maximum number of iterations or it is done using a while loop...\n",
        "\n"
      ]
    },
    {
      "cell_type": "code",
      "metadata": {
        "colab": {
          "base_uri": "https://localhost:8080/"
        },
        "id": "qo0eJkfR3clf",
        "outputId": "c62f13af-f52a-411c-f5c6-6175a66e8595"
      },
      "source": [
        "# note we use in range here to denote the start and end number\n",
        "a = np.zeros([10,1]) #if here we create an empty array we can also allocate values\n",
        "for i in range(0,10):\n",
        "  a[i] = np.random.rand(1)\n",
        "  # print(i)\n",
        "print(a)"
      ],
      "execution_count": null,
      "outputs": [
        {
          "output_type": "stream",
          "text": [
            "[[0.34408979]\n",
            " [0.90377186]\n",
            " [0.7569957 ]\n",
            " [0.42934829]\n",
            " [0.19948678]\n",
            " [0.61291607]\n",
            " [0.97871099]\n",
            " [0.48276255]\n",
            " [0.7967329 ]\n",
            " [0.87461403]]\n"
          ],
          "name": "stdout"
        }
      ]
    },
    {
      "cell_type": "markdown",
      "metadata": {
        "id": "U7aXM9Jv4hwH"
      },
      "source": [
        "As we can see what the loop has allowed us to do here is to repeat the same operation whilst increasing 'i' which is our number from which we are iterating. This means we would be able to perform the operation 10 times perhaps even changing an input parameter. This letter can be any letter, again i is just commonly used in computing. "
      ]
    },
    {
      "cell_type": "code",
      "metadata": {
        "colab": {
          "base_uri": "https://localhost:8080/"
        },
        "id": "zFjmMPkF4Ldq",
        "outputId": "799bffc7-5be1-43f0-9723-8d7732c4e9b8"
      },
      "source": [
        "#here we can change the start and end number of i and even change the size of the steps it uses. \n",
        "for i in range(2,10,2):\n",
        "  print(i)"
      ],
      "execution_count": null,
      "outputs": [
        {
          "output_type": "stream",
          "text": [
            "2\n",
            "4\n",
            "6\n",
            "8\n"
          ],
          "name": "stdout"
        }
      ]
    },
    {
      "cell_type": "code",
      "metadata": {
        "colab": {
          "base_uri": "https://localhost:8080/"
        },
        "id": "AR_1kCxHcTkr",
        "outputId": "60c121c6-debd-4eeb-d7fc-9a2ec0572953"
      },
      "source": [
        "for j in range(0,5):\n",
        "  print(j)\n",
        "print('finished')"
      ],
      "execution_count": null,
      "outputs": [
        {
          "output_type": "stream",
          "text": [
            "0\n",
            "1\n",
            "2\n",
            "3\n",
            "4\n",
            "finushed\n"
          ],
          "name": "stdout"
        }
      ]
    },
    {
      "cell_type": "markdown",
      "metadata": {
        "id": "O7VKMmx95gM1"
      },
      "source": [
        "# Logic\n",
        "\n",
        "The next very common thing used in computing is logic. Logic can be thought of as questions one might ask themselves when playing a computer game. These can be questions such as if one was to do this to a certain operation however if one was to do something else then do a second operation. Being logical in the computer code allows us to make decisions based on parameters for example if we were to find our average value was greater than a certain value we could have an operation to one function, however if we were to find that the value was less than a certain prescribed value then we could have it do alternative operation.  For example:"
      ]
    },
    {
      "cell_type": "code",
      "metadata": {
        "colab": {
          "base_uri": "https://localhost:8080/"
        },
        "id": "vayZNX665iXU",
        "outputId": "7416a890-1e2a-4fbc-c8c0-39e6b095c8b7"
      },
      "source": [
        "a = 6 #change the input value\n",
        "if a > 5: # here we are asking if a is greater than 5\n",
        "  print('Hello') # here note for printing words I use '', this tells the computer these are words not numbers!\n",
        "if a < 5: # here we are asdking if a is less than 5\n",
        "  print('Goodbye')"
      ],
      "execution_count": null,
      "outputs": [
        {
          "output_type": "stream",
          "text": [
            "Hello\n"
          ],
          "name": "stdout"
        }
      ]
    },
    {
      "cell_type": "markdown",
      "metadata": {
        "id": "y6YDJFEP6A-u"
      },
      "source": [
        "We can further extend this functionality by introducing else statements. This means if we ask the computer a question and if does not meet the if criteria we can get the computer to do another operation, for example:"
      ]
    },
    {
      "cell_type": "code",
      "metadata": {
        "colab": {
          "base_uri": "https://localhost:8080/"
        },
        "id": "S3L9vMdx6TwI",
        "outputId": "f064319f-a4e4-40d3-ab87-7740747ef8be"
      },
      "source": [
        "a = 5 #change the input value\n",
        "if a >= 5: #if a is greater than or equal 5\n",
        "  print('Hello')\n",
        "else:\n",
        "  print('Goodbye')"
      ],
      "execution_count": null,
      "outputs": [
        {
          "output_type": "stream",
          "text": [
            "Hello\n"
          ],
          "name": "stdout"
        }
      ]
    },
    {
      "cell_type": "markdown",
      "metadata": {
        "id": "PA_0zoSd6u5g"
      },
      "source": [
        "We can even further extend this by asking an additional questions by nesting if statements:"
      ]
    },
    {
      "cell_type": "code",
      "metadata": {
        "colab": {
          "base_uri": "https://localhost:8080/"
        },
        "id": "_7Y2IobJ62Bd",
        "outputId": "c250fa23-43e3-45bf-842e-d5dc548c1b6b"
      },
      "source": [
        "a = 1 #change the input value\n",
        "if a == 1: #if a is equal to 1 \n",
        "  print('Hola')\n",
        "if a == 2: #if a is equal to 1 \n",
        "  print('Adiós')\n",
        "if a > 2: #if a is greater than 2 \n",
        "  print('Jorge')"
      ],
      "execution_count": null,
      "outputs": [
        {
          "output_type": "stream",
          "text": [
            "Hola\n"
          ],
          "name": "stdout"
        }
      ]
    },
    {
      "cell_type": "markdown",
      "metadata": {
        "id": "VIzoSTHE8Vo2"
      },
      "source": [
        "There are a range of different operators we can use in this logics:\n",
        "* '==' equal to\n",
        "* '>' greater than\n",
        "* '<' less than\n",
        "* '>=' greater or equal to \n",
        "* '<=' less than or equal to\n",
        "* '!=' not equal too\n",
        "\n",
        "We can even combine these operators to ask multiple questions using and or or, for example:\n"
      ]
    },
    {
      "cell_type": "code",
      "metadata": {
        "colab": {
          "base_uri": "https://localhost:8080/"
        },
        "id": "qFTvo5MP84nZ",
        "outputId": "6668aad8-c58c-4dff-da45-38123151ad84"
      },
      "source": [
        "a = 2 #change the input value\n",
        "b = 1 #change the input value\n",
        "#using an & operator \n",
        "if a == 2 and b > 2: # here we are asking, if a is equal to 2 and b is greater than 2\n",
        "  print('Hello')\n",
        "else: \n",
        "  print('Goodbye')"
      ],
      "execution_count": null,
      "outputs": [
        {
          "output_type": "stream",
          "text": [
            "Goodbye\n"
          ],
          "name": "stdout"
        }
      ]
    },
    {
      "cell_type": "code",
      "metadata": {
        "colab": {
          "base_uri": "https://localhost:8080/"
        },
        "id": "UmnXX8by-SW9",
        "outputId": "37f1020f-d13e-4b2a-94e0-75cf4723c358"
      },
      "source": [
        "a = 2 #change the input value\n",
        "b = 1 #change the input value\n",
        "#using an or operator \n",
        "if a == 2 or b > 2: # here we are asking, if a is equal to 2 and b is greater than 2\n",
        "  print('Hello')\n",
        "else: \n",
        "  print('Goodbye')"
      ],
      "execution_count": null,
      "outputs": [
        {
          "output_type": "stream",
          "text": [
            "Hello\n"
          ],
          "name": "stdout"
        }
      ]
    },
    {
      "cell_type": "markdown",
      "metadata": {
        "id": "zTBqlfKI-hiz"
      },
      "source": [
        "We can now combine the logic statements and the for loops into something called a while loop. As suggested by the name, the loop will continue running until a condition is met, this condition can be provided before the loop or it could be created within the loop:"
      ]
    },
    {
      "cell_type": "code",
      "metadata": {
        "colab": {
          "base_uri": "https://localhost:8080/"
        },
        "id": "EPgk3b3K_nTP",
        "outputId": "dfa269a3-e36e-44b5-c034-3673d7f033ea"
      },
      "source": [
        "a = 0 #setting an initial condition\n",
        "while a < 10:\n",
        "  a = a+1\n",
        "  print(a)\n",
        "  # print('Hello')"
      ],
      "execution_count": null,
      "outputs": [
        {
          "output_type": "stream",
          "text": [
            "1\n",
            "2\n",
            "3\n",
            "4\n",
            "5\n",
            "6\n",
            "7\n",
            "8\n",
            "9\n",
            "10\n"
          ],
          "name": "stdout"
        }
      ]
    },
    {
      "cell_type": "code",
      "metadata": {
        "colab": {
          "base_uri": "https://localhost:8080/"
        },
        "id": "n0qMqhIl_07r",
        "outputId": "6757c88d-b2c0-44ae-b5f2-81c53cd0a8a1"
      },
      "source": [
        "c = 0; #sometimes we might even want the loop to count. We can do this by adding a number to c at each itteration. \n",
        "while c < 5:\n",
        "  c = c + 2\n",
        "  print(c)"
      ],
      "execution_count": null,
      "outputs": [
        {
          "output_type": "stream",
          "text": [
            "2\n",
            "4\n",
            "6\n"
          ],
          "name": "stdout"
        }
      ]
    },
    {
      "cell_type": "markdown",
      "metadata": {
        "id": "vXcW5kmHAIzQ"
      },
      "source": [
        "You do need to be very carefull when using while loops that there is a criteria for the loop to end; if not the loop could keep running to infinity! 🙈"
      ]
    },
    {
      "cell_type": "markdown",
      "metadata": {
        "id": "MXqcRAkSBMyL"
      },
      "source": [
        "# Plotting \n",
        "\n",
        "So to be able to plot, we need to use an additional library. The one I prefer to use is called matplotlib (this is how you create all of the fancy plots you see in theh journal papers). "
      ]
    },
    {
      "cell_type": "code",
      "metadata": {
        "colab": {
          "base_uri": "https://localhost:8080/",
          "height": 312
        },
        "id": "UjWYP2_3B14H",
        "outputId": "213b7868-f152-4fe5-b573-a32755f28717"
      },
      "source": [
        "import matplotlib.pyplot as plt #again we simplify the name to plt, but realistically this could be what you want! \n",
        "a = [1,2,3,4,5,6] # again we define some values \n",
        "b = [6,5,4,3,2,1] # again we define some values \n",
        "c = [10,15,41,3,12,1] # again we define some values \n",
        "plt.plot(a,c) #and it really is as simple as this to crearte a plot! \n",
        "plt.ylabel('Hola') # add some lables\n",
        "plt.xlabel('Hello') # add some lables\n",
        "plt.title('Hola vs Hello') # add a title"
      ],
      "execution_count": null,
      "outputs": [
        {
          "output_type": "execute_result",
          "data": {
            "text/plain": [
              "Text(0.5, 1.0, 'Hola vs Hello')"
            ]
          },
          "metadata": {
            "tags": []
          },
          "execution_count": 60
        },
        {
          "output_type": "display_data",
          "data": {
            "image/png": "[encoded data removed]",
            "text/plain": [
              "<Figure size 432x288 with 1 Axes>"
            ]
          },
          "metadata": {
            "tags": [],
            "needs_background": "light"
          }
        }
      ]
    },
    {
      "cell_type": "markdown",
      "metadata": {
        "id": "gmpfR1kGDAQD"
      },
      "source": [
        "We can tweak any paramter of the plots in the following way, these possibilities are endless; check out the documentation for different ideas:\n",
        "\n",
        "https://matplotlib.org/stable/gallery/index.html\n"
      ]
    },
    {
      "cell_type": "code",
      "metadata": {
        "colab": {
          "base_uri": "https://localhost:8080/",
          "height": 376
        },
        "id": "zIJUEmpeDF_R",
        "outputId": "af112364-c24a-48e5-cbf6-6b13c279a2d4"
      },
      "source": [
        "import matplotlib.pyplot as plt #again we simplify the name to plt, but realistically this could be what you want! \n",
        "\n",
        "plt.figure(figsize=(10,5)) # here we can change the size of the figure \n",
        "\n",
        "a1 = [1,2,3,4,5,6] # again we define some values \n",
        "b1 = [6,5,4,3,2,1] # again we define some values \n",
        "a2 = [2,3,4,5,6,7] # again we define some values \n",
        "b2 = [12,11,10,9,8,7] # again we define some values \n",
        "\n",
        "plt.plot(a1,b1,'r--',label='sample1') # this changes the lines to being red and dashed. \n",
        "plt.plot(a2,b2,'b-*',label='bob') # this changes the lines to being blue and with stars. \n",
        "\n",
        "plt.ylabel('Hola') # add some lables\n",
        "plt.xlabel('Hello') # add some lables\n",
        "plt.title('Hola vs Hello') # add a title\n",
        "plt.rc('xtick', labelsize=20) #chnage the fontsize  \n",
        "plt.rc('ytick', labelsize=20) #chnage the fontsize  \n",
        "plt.legend() #this adds a legend\n"
      ],
      "execution_count": null,
      "outputs": [
        {
          "output_type": "execute_result",
          "data": {
            "text/plain": [
              "<matplotlib.legend.Legend at 0x7f4fdb936550>"
            ]
          },
          "metadata": {
            "tags": []
          },
          "execution_count": 65
        },
        {
          "output_type": "display_data",
          "data": {
            "image/png": "[encoded data removed]",
            "text/plain": [
              "<Figure size 720x360 with 1 Axes>"
            ]
          },
          "metadata": {
            "tags": [],
            "needs_background": "light"
          }
        }
      ]
    },
    {
      "cell_type": "markdown",
      "metadata": {
        "id": "gHq7oIdhFd_t"
      },
      "source": [
        "So I think this really shows how easy it is to create simple plots using Python. It is also possible to put these plots into a loop which can automate multiple operations (example coming soon). We also have different types of plots; a really usefull plot for our work is a histogram, this will help identify different modes within a dataset:\n",
        "\n",
        "https://matplotlib.org/stable/api/_as_gen/matplotlib.pyplot.hist.html\n"
      ]
    },
    {
      "cell_type": "code",
      "metadata": {
        "colab": {
          "base_uri": "https://localhost:8080/",
          "height": 321
        },
        "id": "f2qH9YJaF4Ye",
        "outputId": "17bc6890-fc45-4552-eeff-747809ee1d1e"
      },
      "source": [
        "import matplotlib.pyplot as plt \n",
        "import numpy as np\n",
        "a = np.random.normal(0,0.1,1000) # just created some random numbers (normal distribution)\n",
        "# now we can plot the histogram \n",
        "plt.hist(a,bins=100,range=[-0.3,0.3]) #here we can set the number of bins and the ranges \n",
        "plt.ylabel('frequency')\n",
        "plt.xlabel('range')\n",
        "plt.title('freq vs. range')"
      ],
      "execution_count": null,
      "outputs": [
        {
          "output_type": "execute_result",
          "data": {
            "text/plain": [
              "Text(0.5, 1.0, 'freq vs. range')"
            ]
          },
          "metadata": {
            "tags": []
          },
          "execution_count": 66
        },
        {
          "output_type": "display_data",
          "data": {
            "image/png": "[encoded data removed]",
            "text/plain": [
              "<Figure size 432x288 with 1 Axes>"
            ]
          },
          "metadata": {
            "tags": [],
            "needs_background": "light"
          }
        }
      ]
    },
    {
      "cell_type": "markdown",
      "metadata": {
        "id": "5W3svk21J69t"
      },
      "source": [
        "Here we can now combine the loops and the plots to create subplots:\n",
        "\n",
        "https://matplotlib.org/stable/gallery/subplots_axes_and_figures/subplots_demo.html\n"
      ]
    },
    {
      "cell_type": "code",
      "metadata": {
        "colab": {
          "base_uri": "https://localhost:8080/",
          "height": 396
        },
        "id": "SzBaJ4yUJ_lX",
        "outputId": "e7d9a42b-5eba-49fd-86b2-315ae07abb85"
      },
      "source": [
        "import matplotlib.pyplot as plt \n",
        "fig, (ax1, ax2) = plt.subplots(1, 2, figsize=(10, 5)) # here we define we can have a 2 colums and 1 rows plots\n",
        "\n",
        "a1 = [1,2,3,4,5,6] # again we define some values \n",
        "b1 = [6,5,4,3,2,1] # again we define some values \n",
        "a2 = [2,3,4,5,6,7] # again we define some values \n",
        "b2 = [12,11,10,9,8,7] # again we define some values \n",
        "\n",
        "fig.suptitle('Horizontally stacked subplots')\n",
        "ax1.plot(a1, b1)\n",
        "ax2.plot(a2, b2)\n",
        "\n",
        "ax1.set(xlabel='z-label', ylabel='y-label')\n",
        "ax2.set(xlabel='x-label', ylabel='y-label')"
      ],
      "execution_count": null,
      "outputs": [
        {
          "output_type": "execute_result",
          "data": {
            "text/plain": [
              "[Text(0, 0.5, 'y-label'), Text(0.5, 0, 'x-label')]"
            ]
          },
          "metadata": {
            "tags": []
          },
          "execution_count": 67
        },
        {
          "output_type": "display_data",
          "data": {
            "image/png": "[encoded data removed]",
            "text/plain": [
              "<Figure size 720x360 with 2 Axes>"
            ]
          },
          "metadata": {
            "tags": [],
            "needs_background": "light"
          }
        }
      ]
    },
    {
      "cell_type": "markdown",
      "metadata": {
        "id": "ChupILnEO83C"
      },
      "source": [
        "Let's just demonstarte how we might use this in a loop"
      ]
    },
    {
      "cell_type": "code",
      "metadata": {
        "colab": {
          "base_uri": "https://localhost:8080/",
          "height": 911
        },
        "id": "KbyYoUmmO8OO",
        "outputId": "484bd346-113b-44d6-9f63-fe655ecb2790"
      },
      "source": [
        "import matplotlib.pyplot as plt \n",
        "import numpy as np\n",
        "fig, axs = plt.subplots(2, 2, figsize=(15, 15))\n",
        "for i in range(0,2): # here we can use nested loops to make the subplots\n",
        "  for j in range(0,2): \n",
        "    axs[i,j].scatter(np.random.rand(100), np.random.rand(100))\n",
        "    axs[i,j].set(title=f'{i},{j}')\n",
        "    axs[i,j].set(xlabel='x-label', ylabel='y-label')\n"
      ],
      "execution_count": null,
      "outputs": [
        {
          "output_type": "display_data",
          "data": {
            "image/png": "[encoded data removed]",
            "text/plain": [
              "<Figure size 1080x1080 with 4 Axes>"
            ]
          },
          "metadata": {
            "tags": [],
            "needs_background": "light"
          }
        }
      ]
    },
    {
      "cell_type": "markdown",
      "metadata": {
        "id": "l2VFS0sIyw68"
      },
      "source": [
        "Additional Histogram "
      ]
    },
    {
      "cell_type": "code",
      "metadata": {
        "id": "dGkJootbyy3f",
        "outputId": "9931bc9c-3ab6-4d76-e214-d92eef851470",
        "colab": {
          "base_uri": "https://localhost:8080/",
          "height": 314
        }
      },
      "source": [
        "# the histogram of the data\n",
        "import matplotlib.pyplot as plt \n",
        "import numpy as np\n",
        "\n",
        "mu = 100  # mean of distribution\n",
        "sigma = 15  # standard deviation of distribution\n",
        "x = mu + sigma * np.random.randn(437)\n",
        "\n",
        "num_bins = 50\n",
        "fig, ax = plt.subplots()\n",
        "n, bins, patches = ax.hist(x, num_bins, density=True)\n",
        "y = ((1 / (np.sqrt(2 * np.pi) * sigma)) *\n",
        "     np.exp(-0.5 * (1 / sigma * (bins - mu))**2))\n",
        "ax.plot(bins, y, '--')\n",
        "ax.set_xlabel('Smarts')\n",
        "ax.set_ylabel('Probability density')\n",
        "ax.set_title(r'Histogram of IQ: $\\mu=100$, $\\sigma=15$')\n"
      ],
      "execution_count": 7,
      "outputs": [
        {
          "output_type": "execute_result",
          "data": {
            "text/plain": [
              "Text(0.5, 1.0, 'Histogram of IQ: $\\\\mu=100$, $\\\\sigma=15$')"
            ]
          },
          "metadata": {
            "tags": []
          },
          "execution_count": 7
        },
        {
          "output_type": "display_data",
          "data": {
            "image/png": "[encoded data removed]",
            "text/plain": [
              "<Figure size 432x288 with 1 Axes>"
            ]
          },
          "metadata": {
            "tags": [],
            "needs_background": "light"
          }
        }
      ]
    },
    {
      "cell_type": "markdown",
      "metadata": {
        "id": "i_CogXgms0pT"
      },
      "source": [
        "# Reading in some data \n",
        "Ok, now lets have a go at reading in some data. To do this we will need to read the data from a repository. We will do this from github\n",
        "\n",
        "https://github.com/flowonthegoliv/ENVS666\n",
        "\n",
        "We will start with the sample dataset...but I will then provide tools for the others. The data which I have provided is data take from 2020-21 from DEFRA sites across the UK. I will provide all of the toolboxes for you do you analysis of these data. Each one will be slightly different; this is down to the type of data. "
      ]
    },
    {
      "cell_type": "code",
      "metadata": {
        "colab": {
          "base_uri": "https://localhost:8080/",
          "height": 830
        },
        "id": "j7orJsuj0U5D",
        "outputId": "7e09a114-9d5f-4456-9e4c-6fa575356ec8"
      },
      "source": [
        "filename = 'data/sample_data/sample_no2.csv' # here we can read in the DEFRA data\n",
        "\n",
        "# this reads in the data and tidies it up. Don't worry if you don't understand it! \n",
        "import pandas as pd\n",
        "import datetime\n",
        "url = f'https://raw.githubusercontent.com/flowonthegoliv/ENVS666/main/{filename}'\n",
        "df = pd.read_csv(url, skiprows=3,dtype='unicode')\n",
        "df = df.drop(df.columns[range(3,df.shape[1],2)],axis=1)\n",
        "df = df.drop([0,df.shape[0]-1],axis=0)\n",
        "for i in range(1,df.shape[0]+1):\n",
        "  time = df[df.columns[1]][i]\n",
        "  tmp = \"%0.2d\" % (np.uint8(time[0:2])-1)\n",
        "  df[df.columns[1]][i] = tmp+time[2::]\n",
        "df[df.columns[1]] = pd.to_datetime(df[df.columns[0]] + ' ' + df[df.columns[1]])\n",
        "df = df.drop(df.columns[0],axis=1)\n",
        "df = df.rename({df.columns[0]: 'Date & Time'},axis=1)\n",
        "df = df.replace(['No data'],'9999')\n",
        "df = df[df.columns[range(0,df.shape[1])]].apply(pd.to_numeric)\n",
        "df[df.columns[0]] = pd.to_datetime(df[df.columns[0]]);\n",
        "df = df.replace([9999],np.nan)\n",
        "df\n",
        "# this finished the complex bit - again don't worry I am just tidying "
      ],
      "execution_count": null,
      "outputs": [
        {
          "output_type": "execute_result",
          "data": {
            "text/html": [
              "<div>\n",
              "<style scoped>\n",
              "    .dataframe tbody tr th:only-of-type {\n",
              "        vertical-align: middle;\n",
              "    }\n",
              "\n",
              "    .dataframe tbody tr th {\n",
              "        vertical-align: top;\n",
              "    }\n",
              "\n",
              "    .dataframe thead th {\n",
              "        text-align: right;\n",
              "    }\n",
              "</style>\n",
              "<table border=\"1\" class=\"dataframe\">\n",
              "  <thead>\n",
              "    <tr style=\"text-align: right;\">\n",
              "      <th></th>\n",
              "      <th>Date &amp; Time</th>\n",
              "      <th>Aberdeen</th>\n",
              "      <th>Aberdeen Union Street Roadside</th>\n",
              "      <th>Aberdeen Wellington Road</th>\n",
              "      <th>Armagh Roadside</th>\n",
              "      <th>Aston Hill</th>\n",
              "      <th>Auchencorth Moss</th>\n",
              "      <th>Ballymena Antrim Road</th>\n",
              "      <th>Ballymena Ballykeel</th>\n",
              "      <th>Barnsley Gawber</th>\n",
              "      <th>Bath A4 Roadside</th>\n",
              "      <th>Belfast Centre</th>\n",
              "      <th>Belfast Stockman's Lane</th>\n",
              "      <th>Billingham</th>\n",
              "      <th>Birkenhead Borough Road</th>\n",
              "      <th>Birmingham A4540 Roadside</th>\n",
              "      <th>Birmingham Acocks Green</th>\n",
              "      <th>Birmingham Ladywood</th>\n",
              "      <th>Blackburn Accrington Road</th>\n",
              "      <th>Blackpool Marton</th>\n",
              "      <th>Borehamwood Meadow Park</th>\n",
              "      <th>Bournemouth</th>\n",
              "      <th>Bradford Mayo Avenue</th>\n",
              "      <th>Brighton Preston Park</th>\n",
              "      <th>Bristol St Paul's</th>\n",
              "      <th>Bristol Temple Way</th>\n",
              "      <th>Burton-on-Trent Horninglow</th>\n",
              "      <th>Bury Whitefield Roadside</th>\n",
              "      <th>Bush Estate</th>\n",
              "      <th>Cambridge Roadside</th>\n",
              "      <th>Camden Kerbside</th>\n",
              "      <th>Cannock A5190 Roadside</th>\n",
              "      <th>Canterbury</th>\n",
              "      <th>Cardiff Centre</th>\n",
              "      <th>Cardiff Newport Road</th>\n",
              "      <th>Carlisle Roadside</th>\n",
              "      <th>Charlton Mackrell</th>\n",
              "      <th>Chatham Roadside</th>\n",
              "      <th>Chepstow A48</th>\n",
              "      <th>Chesterfield Loundsley Green</th>\n",
              "      <th>...</th>\n",
              "      <th>Salford Eccles</th>\n",
              "      <th>Sandy Roadside</th>\n",
              "      <th>Scunthorpe Town</th>\n",
              "      <th>Shaw Crompton Way</th>\n",
              "      <th>Sheffield Barnsley Road</th>\n",
              "      <th>Sheffield Devonshire Green</th>\n",
              "      <th>Sheffield Tinsley</th>\n",
              "      <th>Sibton</th>\n",
              "      <th>Southampton A33</th>\n",
              "      <th>Southampton Centre</th>\n",
              "      <th>Southend-on-Sea</th>\n",
              "      <th>Southwark A2 Old Kent Road</th>\n",
              "      <th>St Helens Linkway</th>\n",
              "      <th>St Osyth</th>\n",
              "      <th>Stanford-le-Hope Roadside</th>\n",
              "      <th>Stockton-on-Tees A1305 Roadside</th>\n",
              "      <th>Stockton-on-Tees Eaglescliffe</th>\n",
              "      <th>Stoke-on-Trent A50 Roadside</th>\n",
              "      <th>Stoke-on-Trent Centre</th>\n",
              "      <th>Storrington Roadside</th>\n",
              "      <th>Strathvaich</th>\n",
              "      <th>Sunderland Silksworth</th>\n",
              "      <th>Sunderland Wessington Way</th>\n",
              "      <th>Swansea Roadside</th>\n",
              "      <th>Swindon Walcot</th>\n",
              "      <th>Telford Hollinswood</th>\n",
              "      <th>Thurrock</th>\n",
              "      <th>Tower Hamlets Roadside</th>\n",
              "      <th>Walsall Woodlands</th>\n",
              "      <th>Warrington</th>\n",
              "      <th>West Bromwich Kenrick Park</th>\n",
              "      <th>Wicken Fen</th>\n",
              "      <th>Widnes Milton Road</th>\n",
              "      <th>Wigan Centre</th>\n",
              "      <th>Wirral Tranmere</th>\n",
              "      <th>Worthing A27 Roadside</th>\n",
              "      <th>Wrexham</th>\n",
              "      <th>Yarner Wood</th>\n",
              "      <th>York Bootham</th>\n",
              "      <th>York Fishergate</th>\n",
              "    </tr>\n",
              "  </thead>\n",
              "  <tbody>\n",
              "    <tr>\n",
              "      <th>1</th>\n",
              "      <td>2020-02-15 00:00:00</td>\n",
              "      <td>1.10809</td>\n",
              "      <td>10.68806</td>\n",
              "      <td>2.72801</td>\n",
              "      <td>6.02156</td>\n",
              "      <td>0.25209</td>\n",
              "      <td>NaN</td>\n",
              "      <td>2.61205</td>\n",
              "      <td>0.50699</td>\n",
              "      <td>0.74692</td>\n",
              "      <td>5.90505</td>\n",
              "      <td>NaN</td>\n",
              "      <td>16.63134</td>\n",
              "      <td>0.54327</td>\n",
              "      <td>3.78170</td>\n",
              "      <td>11.58530</td>\n",
              "      <td>0.84132</td>\n",
              "      <td>NaN</td>\n",
              "      <td>4.11526</td>\n",
              "      <td>0.21308</td>\n",
              "      <td>0.37012</td>\n",
              "      <td>0.09909</td>\n",
              "      <td>10.77686</td>\n",
              "      <td>0.27130</td>\n",
              "      <td>0.62427</td>\n",
              "      <td>25.30295</td>\n",
              "      <td>0.98252</td>\n",
              "      <td>0.73166</td>\n",
              "      <td>0.37477</td>\n",
              "      <td>7.24615</td>\n",
              "      <td>7.81020</td>\n",
              "      <td>4.35445</td>\n",
              "      <td>0.93681</td>\n",
              "      <td>1.86471</td>\n",
              "      <td>4.38373</td>\n",
              "      <td>1.39739</td>\n",
              "      <td>0.45828</td>\n",
              "      <td>3.36707</td>\n",
              "      <td>6.82772</td>\n",
              "      <td>0.38894</td>\n",
              "      <td>...</td>\n",
              "      <td>1.50750</td>\n",
              "      <td>2.05251</td>\n",
              "      <td>1.12476</td>\n",
              "      <td>4.91633</td>\n",
              "      <td>11.63678</td>\n",
              "      <td>7.96425</td>\n",
              "      <td>0.27677</td>\n",
              "      <td>NaN</td>\n",
              "      <td>1.82182</td>\n",
              "      <td>1.43396</td>\n",
              "      <td>0.21033</td>\n",
              "      <td>1.40849</td>\n",
              "      <td>NaN</td>\n",
              "      <td>0.04201</td>\n",
              "      <td>NaN</td>\n",
              "      <td>0.71559</td>\n",
              "      <td>0.52028</td>\n",
              "      <td>22.61830</td>\n",
              "      <td>3.49680</td>\n",
              "      <td>0.60909</td>\n",
              "      <td>NaN</td>\n",
              "      <td>0.60317</td>\n",
              "      <td>2.68095</td>\n",
              "      <td>2.75937</td>\n",
              "      <td>0.54632</td>\n",
              "      <td>0.77567</td>\n",
              "      <td>2.20741</td>\n",
              "      <td>2.42688</td>\n",
              "      <td>1.04449</td>\n",
              "      <td>1.97401</td>\n",
              "      <td>0.66445</td>\n",
              "      <td>0.37417</td>\n",
              "      <td>4.34593</td>\n",
              "      <td>1.18356</td>\n",
              "      <td>0.42077</td>\n",
              "      <td>2.98287</td>\n",
              "      <td>8.03366</td>\n",
              "      <td>0.31299</td>\n",
              "      <td>0.23247</td>\n",
              "      <td>6.81154</td>\n",
              "    </tr>\n",
              "    <tr>\n",
              "      <th>2</th>\n",
              "      <td>2020-02-15 01:00:00</td>\n",
              "      <td>0.53726</td>\n",
              "      <td>5.19134</td>\n",
              "      <td>1.44820</td>\n",
              "      <td>2.24251</td>\n",
              "      <td>0.30251</td>\n",
              "      <td>NaN</td>\n",
              "      <td>2.24545</td>\n",
              "      <td>0.53113</td>\n",
              "      <td>NaN</td>\n",
              "      <td>2.73053</td>\n",
              "      <td>NaN</td>\n",
              "      <td>NaN</td>\n",
              "      <td>0.69143</td>\n",
              "      <td>2.83627</td>\n",
              "      <td>8.26873</td>\n",
              "      <td>1.54242</td>\n",
              "      <td>0.24910</td>\n",
              "      <td>1.72169</td>\n",
              "      <td>0.29832</td>\n",
              "      <td>NaN</td>\n",
              "      <td>0.37160</td>\n",
              "      <td>12.79752</td>\n",
              "      <td>0.31652</td>\n",
              "      <td>0.70751</td>\n",
              "      <td>7.62008</td>\n",
              "      <td>1.07610</td>\n",
              "      <td>1.85066</td>\n",
              "      <td>NaN</td>\n",
              "      <td>14.12070</td>\n",
              "      <td>6.55555</td>\n",
              "      <td>0.77322</td>\n",
              "      <td>1.19704</td>\n",
              "      <td>NaN</td>\n",
              "      <td>0.24131</td>\n",
              "      <td>1.90553</td>\n",
              "      <td>0.33329</td>\n",
              "      <td>1.32911</td>\n",
              "      <td>3.26543</td>\n",
              "      <td>0.34032</td>\n",
              "      <td>...</td>\n",
              "      <td>1.28580</td>\n",
              "      <td>3.10264</td>\n",
              "      <td>0.79150</td>\n",
              "      <td>10.61927</td>\n",
              "      <td>31.33722</td>\n",
              "      <td>22.61603</td>\n",
              "      <td>0.64581</td>\n",
              "      <td>NaN</td>\n",
              "      <td>2.08843</td>\n",
              "      <td>1.56048</td>\n",
              "      <td>0.16826</td>\n",
              "      <td>1.27644</td>\n",
              "      <td>7.52819</td>\n",
              "      <td>NaN</td>\n",
              "      <td>NaN</td>\n",
              "      <td>0.82083</td>\n",
              "      <td>0.63590</td>\n",
              "      <td>8.45504</td>\n",
              "      <td>1.62352</td>\n",
              "      <td>0.60909</td>\n",
              "      <td>NaN</td>\n",
              "      <td>0.35185</td>\n",
              "      <td>2.21061</td>\n",
              "      <td>2.10461</td>\n",
              "      <td>0.75645</td>\n",
              "      <td>1.14069</td>\n",
              "      <td>0.95974</td>\n",
              "      <td>0.39003</td>\n",
              "      <td>1.13945</td>\n",
              "      <td>0.72952</td>\n",
              "      <td>0.99667</td>\n",
              "      <td>0.37417</td>\n",
              "      <td>2.43904</td>\n",
              "      <td>0.33816</td>\n",
              "      <td>0.46752</td>\n",
              "      <td>1.98858</td>\n",
              "      <td>1.33894</td>\n",
              "      <td>0.26828</td>\n",
              "      <td>0.30995</td>\n",
              "      <td>3.12731</td>\n",
              "    </tr>\n",
              "    <tr>\n",
              "      <th>3</th>\n",
              "      <td>2020-02-15 02:00:00</td>\n",
              "      <td>0.60441</td>\n",
              "      <td>6.19471</td>\n",
              "      <td>0.77462</td>\n",
              "      <td>1.02782</td>\n",
              "      <td>0.30251</td>\n",
              "      <td>NaN</td>\n",
              "      <td>1.71846</td>\n",
              "      <td>0.76048</td>\n",
              "      <td>0.46683</td>\n",
              "      <td>2.33094</td>\n",
              "      <td>NaN</td>\n",
              "      <td>33.23778</td>\n",
              "      <td>0.48153</td>\n",
              "      <td>2.83627</td>\n",
              "      <td>6.20154</td>\n",
              "      <td>0.99907</td>\n",
              "      <td>0.15569</td>\n",
              "      <td>0.75586</td>\n",
              "      <td>0.28766</td>\n",
              "      <td>0.09253</td>\n",
              "      <td>0.14864</td>\n",
              "      <td>8.28471</td>\n",
              "      <td>0.30521</td>\n",
              "      <td>0.56184</td>\n",
              "      <td>10.24769</td>\n",
              "      <td>1.01761</td>\n",
              "      <td>0.96837</td>\n",
              "      <td>0.40600</td>\n",
              "      <td>7.00229</td>\n",
              "      <td>4.86177</td>\n",
              "      <td>0.85461</td>\n",
              "      <td>0.97585</td>\n",
              "      <td>NaN</td>\n",
              "      <td>0.48261</td>\n",
              "      <td>0.63518</td>\n",
              "      <td>0.62492</td>\n",
              "      <td>1.62815</td>\n",
              "      <td>4.89815</td>\n",
              "      <td>0.43755</td>\n",
              "      <td>...</td>\n",
              "      <td>1.09737</td>\n",
              "      <td>2.79238</td>\n",
              "      <td>0.37492</td>\n",
              "      <td>1.99931</td>\n",
              "      <td>16.62225</td>\n",
              "      <td>39.73764</td>\n",
              "      <td>1.00330</td>\n",
              "      <td>NaN</td>\n",
              "      <td>1.66630</td>\n",
              "      <td>1.04384</td>\n",
              "      <td>0.25239</td>\n",
              "      <td>0.82528</td>\n",
              "      <td>6.41172</td>\n",
              "      <td>0.06302</td>\n",
              "      <td>0.33751</td>\n",
              "      <td>0.72612</td>\n",
              "      <td>0.52028</td>\n",
              "      <td>5.95501</td>\n",
              "      <td>1.46741</td>\n",
              "      <td>0.68523</td>\n",
              "      <td>NaN</td>\n",
              "      <td>0.30159</td>\n",
              "      <td>1.65796</td>\n",
              "      <td>0.91200</td>\n",
              "      <td>0.50430</td>\n",
              "      <td>0.92396</td>\n",
              "      <td>0.57585</td>\n",
              "      <td>0.65006</td>\n",
              "      <td>0.89019</td>\n",
              "      <td>0.54714</td>\n",
              "      <td>0.68521</td>\n",
              "      <td>0.43653</td>\n",
              "      <td>3.45901</td>\n",
              "      <td>0.28532</td>\n",
              "      <td>0.42077</td>\n",
              "      <td>1.24286</td>\n",
              "      <td>1.79323</td>\n",
              "      <td>0.20121</td>\n",
              "      <td>0.29058</td>\n",
              "      <td>2.21697</td>\n",
              "    </tr>\n",
              "    <tr>\n",
              "      <th>4</th>\n",
              "      <td>2020-02-15 03:00:00</td>\n",
              "      <td>0.67157</td>\n",
              "      <td>2.44299</td>\n",
              "      <td>1.41452</td>\n",
              "      <td>1.33928</td>\n",
              "      <td>0.41595</td>\n",
              "      <td>NaN</td>\n",
              "      <td>0.92797</td>\n",
              "      <td>0.68805</td>\n",
              "      <td>0.28010</td>\n",
              "      <td>4.19569</td>\n",
              "      <td>NaN</td>\n",
              "      <td>6.64756</td>\n",
              "      <td>0.62970</td>\n",
              "      <td>1.20233</td>\n",
              "      <td>2.38521</td>\n",
              "      <td>0.78874</td>\n",
              "      <td>0.28024</td>\n",
              "      <td>0.62989</td>\n",
              "      <td>0.31962</td>\n",
              "      <td>0.21590</td>\n",
              "      <td>0.29728</td>\n",
              "      <td>14.54876</td>\n",
              "      <td>0.37304</td>\n",
              "      <td>0.40578</td>\n",
              "      <td>1.54737</td>\n",
              "      <td>0.63162</td>\n",
              "      <td>2.13041</td>\n",
              "      <td>0.34354</td>\n",
              "      <td>5.01656</td>\n",
              "      <td>4.48538</td>\n",
              "      <td>1.00722</td>\n",
              "      <td>0.93681</td>\n",
              "      <td>NaN</td>\n",
              "      <td>0.42229</td>\n",
              "      <td>1.04804</td>\n",
              "      <td>0.21872</td>\n",
              "      <td>1.82752</td>\n",
              "      <td>0.95419</td>\n",
              "      <td>0.21878</td>\n",
              "      <td>...</td>\n",
              "      <td>0.63182</td>\n",
              "      <td>1.39619</td>\n",
              "      <td>0.28119</td>\n",
              "      <td>1.90098</td>\n",
              "      <td>11.84199</td>\n",
              "      <td>11.23962</td>\n",
              "      <td>0.55355</td>\n",
              "      <td>NaN</td>\n",
              "      <td>2.23284</td>\n",
              "      <td>0.69589</td>\n",
              "      <td>0.25239</td>\n",
              "      <td>0.62722</td>\n",
              "      <td>4.30638</td>\n",
              "      <td>0.00000</td>\n",
              "      <td>0.53038</td>\n",
              "      <td>0.72612</td>\n",
              "      <td>0.47692</td>\n",
              "      <td>4.86057</td>\n",
              "      <td>1.18642</td>\n",
              "      <td>1.05068</td>\n",
              "      <td>NaN</td>\n",
              "      <td>0.37698</td>\n",
              "      <td>3.70395</td>\n",
              "      <td>1.29784</td>\n",
              "      <td>0.44126</td>\n",
              "      <td>0.54753</td>\n",
              "      <td>1.00773</td>\n",
              "      <td>0.74757</td>\n",
              "      <td>0.53412</td>\n",
              "      <td>0.45059</td>\n",
              "      <td>0.43604</td>\n",
              "      <td>0.37417</td>\n",
              "      <td>0.79823</td>\n",
              "      <td>0.25362</td>\n",
              "      <td>0.38571</td>\n",
              "      <td>1.06531</td>\n",
              "      <td>3.22781</td>\n",
              "      <td>0.10060</td>\n",
              "      <td>0.26153</td>\n",
              "      <td>3.63068</td>\n",
              "    </tr>\n",
              "    <tr>\n",
              "      <th>5</th>\n",
              "      <td>2020-02-15 04:00:00</td>\n",
              "      <td>0.70515</td>\n",
              "      <td>1.70137</td>\n",
              "      <td>1.68396</td>\n",
              "      <td>0.40490</td>\n",
              "      <td>0.34032</td>\n",
              "      <td>NaN</td>\n",
              "      <td>1.06544</td>\n",
              "      <td>0.57941</td>\n",
              "      <td>0.28010</td>\n",
              "      <td>1.76485</td>\n",
              "      <td>NaN</td>\n",
              "      <td>4.85496</td>\n",
              "      <td>0.44449</td>\n",
              "      <td>0.64741</td>\n",
              "      <td>2.86225</td>\n",
              "      <td>0.73615</td>\n",
              "      <td>0.34252</td>\n",
              "      <td>0.18897</td>\n",
              "      <td>0.19178</td>\n",
              "      <td>0.12337</td>\n",
              "      <td>0.18580</td>\n",
              "      <td>15.55909</td>\n",
              "      <td>0.40695</td>\n",
              "      <td>0.43699</td>\n",
              "      <td>1.34300</td>\n",
              "      <td>0.35090</td>\n",
              "      <td>0.67786</td>\n",
              "      <td>0.49970</td>\n",
              "      <td>2.02056</td>\n",
              "      <td>4.73631</td>\n",
              "      <td>1.64818</td>\n",
              "      <td>0.93681</td>\n",
              "      <td>1.14752</td>\n",
              "      <td>0.36196</td>\n",
              "      <td>0.66693</td>\n",
              "      <td>0.18748</td>\n",
              "      <td>0.93037</td>\n",
              "      <td>0.47709</td>\n",
              "      <td>0.32817</td>\n",
              "      <td>...</td>\n",
              "      <td>0.76483</td>\n",
              "      <td>3.65157</td>\n",
              "      <td>0.46865</td>\n",
              "      <td>1.04882</td>\n",
              "      <td>3.51276</td>\n",
              "      <td>2.21145</td>\n",
              "      <td>0.41516</td>\n",
              "      <td>NaN</td>\n",
              "      <td>1.43302</td>\n",
              "      <td>0.85405</td>\n",
              "      <td>0.22084</td>\n",
              "      <td>0.39614</td>\n",
              "      <td>2.13724</td>\n",
              "      <td>0.03151</td>\n",
              "      <td>0.32546</td>\n",
              "      <td>0.69455</td>\n",
              "      <td>0.52028</td>\n",
              "      <td>7.11382</td>\n",
              "      <td>1.06153</td>\n",
              "      <td>0.77659</td>\n",
              "      <td>NaN</td>\n",
              "      <td>0.30159</td>\n",
              "      <td>1.76378</td>\n",
              "      <td>1.22769</td>\n",
              "      <td>0.34671</td>\n",
              "      <td>0.71864</td>\n",
              "      <td>1.51159</td>\n",
              "      <td>0.58505</td>\n",
              "      <td>0.85459</td>\n",
              "      <td>0.61151</td>\n",
              "      <td>0.52948</td>\n",
              "      <td>0.34299</td>\n",
              "      <td>0.93127</td>\n",
              "      <td>0.19022</td>\n",
              "      <td>0.35064</td>\n",
              "      <td>1.81103</td>\n",
              "      <td>1.47045</td>\n",
              "      <td>0.13414</td>\n",
              "      <td>0.14529</td>\n",
              "      <td>1.60650</td>\n",
              "    </tr>\n",
              "    <tr>\n",
              "      <th>...</th>\n",
              "      <td>...</td>\n",
              "      <td>...</td>\n",
              "      <td>...</td>\n",
              "      <td>...</td>\n",
              "      <td>...</td>\n",
              "      <td>...</td>\n",
              "      <td>...</td>\n",
              "      <td>...</td>\n",
              "      <td>...</td>\n",
              "      <td>...</td>\n",
              "      <td>...</td>\n",
              "      <td>...</td>\n",
              "      <td>...</td>\n",
              "      <td>...</td>\n",
              "      <td>...</td>\n",
              "      <td>...</td>\n",
              "      <td>...</td>\n",
              "      <td>...</td>\n",
              "      <td>...</td>\n",
              "      <td>...</td>\n",
              "      <td>...</td>\n",
              "      <td>...</td>\n",
              "      <td>...</td>\n",
              "      <td>...</td>\n",
              "      <td>...</td>\n",
              "      <td>...</td>\n",
              "      <td>...</td>\n",
              "      <td>...</td>\n",
              "      <td>...</td>\n",
              "      <td>...</td>\n",
              "      <td>...</td>\n",
              "      <td>...</td>\n",
              "      <td>...</td>\n",
              "      <td>...</td>\n",
              "      <td>...</td>\n",
              "      <td>...</td>\n",
              "      <td>...</td>\n",
              "      <td>...</td>\n",
              "      <td>...</td>\n",
              "      <td>...</td>\n",
              "      <td>...</td>\n",
              "      <td>...</td>\n",
              "      <td>...</td>\n",
              "      <td>...</td>\n",
              "      <td>...</td>\n",
              "      <td>...</td>\n",
              "      <td>...</td>\n",
              "      <td>...</td>\n",
              "      <td>...</td>\n",
              "      <td>...</td>\n",
              "      <td>...</td>\n",
              "      <td>...</td>\n",
              "      <td>...</td>\n",
              "      <td>...</td>\n",
              "      <td>...</td>\n",
              "      <td>...</td>\n",
              "      <td>...</td>\n",
              "      <td>...</td>\n",
              "      <td>...</td>\n",
              "      <td>...</td>\n",
              "      <td>...</td>\n",
              "      <td>...</td>\n",
              "      <td>...</td>\n",
              "      <td>...</td>\n",
              "      <td>...</td>\n",
              "      <td>...</td>\n",
              "      <td>...</td>\n",
              "      <td>...</td>\n",
              "      <td>...</td>\n",
              "      <td>...</td>\n",
              "      <td>...</td>\n",
              "      <td>...</td>\n",
              "      <td>...</td>\n",
              "      <td>...</td>\n",
              "      <td>...</td>\n",
              "      <td>...</td>\n",
              "      <td>...</td>\n",
              "      <td>...</td>\n",
              "      <td>...</td>\n",
              "      <td>...</td>\n",
              "      <td>...</td>\n",
              "    </tr>\n",
              "    <tr>\n",
              "      <th>8492</th>\n",
              "      <td>2021-02-02 19:00:00</td>\n",
              "      <td>1.37203</td>\n",
              "      <td>8.23218</td>\n",
              "      <td>9.47948</td>\n",
              "      <td>13.47084</td>\n",
              "      <td>0.24946</td>\n",
              "      <td>NaN</td>\n",
              "      <td>1.62149</td>\n",
              "      <td>1.62149</td>\n",
              "      <td>13.09665</td>\n",
              "      <td>4.98920</td>\n",
              "      <td>0.87311</td>\n",
              "      <td>8.73110</td>\n",
              "      <td>2.24514</td>\n",
              "      <td>2.99352</td>\n",
              "      <td>18.70950</td>\n",
              "      <td>2.61933</td>\n",
              "      <td>0.49892</td>\n",
              "      <td>1.74622</td>\n",
              "      <td>0.24946</td>\n",
              "      <td>4.11609</td>\n",
              "      <td>0.00000</td>\n",
              "      <td>77.83152</td>\n",
              "      <td>0.00000</td>\n",
              "      <td>0.74838</td>\n",
              "      <td>1.37203</td>\n",
              "      <td>4.49028</td>\n",
              "      <td>1.24730</td>\n",
              "      <td>0.12473</td>\n",
              "      <td>3.36771</td>\n",
              "      <td>3.49244</td>\n",
              "      <td>3.36771</td>\n",
              "      <td>0.49892</td>\n",
              "      <td>1.24730</td>\n",
              "      <td>0.24946</td>\n",
              "      <td>8.48164</td>\n",
              "      <td>0.74838</td>\n",
              "      <td>4.73974</td>\n",
              "      <td>10.47732</td>\n",
              "      <td>42.03401</td>\n",
              "      <td>...</td>\n",
              "      <td>12.84719</td>\n",
              "      <td>2.36987</td>\n",
              "      <td>0.87311</td>\n",
              "      <td>11.84935</td>\n",
              "      <td>94.79480</td>\n",
              "      <td>40.16306</td>\n",
              "      <td>71.09610</td>\n",
              "      <td>NaN</td>\n",
              "      <td>10.22786</td>\n",
              "      <td>5.98704</td>\n",
              "      <td>1.62149</td>\n",
              "      <td>NaN</td>\n",
              "      <td>13.59557</td>\n",
              "      <td>0.00000</td>\n",
              "      <td>0.24946</td>\n",
              "      <td>6.98488</td>\n",
              "      <td>6.11177</td>\n",
              "      <td>65.73271</td>\n",
              "      <td>3.24298</td>\n",
              "      <td>1.12257</td>\n",
              "      <td>NaN</td>\n",
              "      <td>1.87095</td>\n",
              "      <td>1.49676</td>\n",
              "      <td>2.24514</td>\n",
              "      <td>0.62365</td>\n",
              "      <td>2.36987</td>\n",
              "      <td>0.24946</td>\n",
              "      <td>0.99784</td>\n",
              "      <td>0.62365</td>\n",
              "      <td>1.87095</td>\n",
              "      <td>1.87095</td>\n",
              "      <td>0.12473</td>\n",
              "      <td>29.93520</td>\n",
              "      <td>2.49460</td>\n",
              "      <td>1.74622</td>\n",
              "      <td>7.60853</td>\n",
              "      <td>5.61285</td>\n",
              "      <td>0.37419</td>\n",
              "      <td>0.37419</td>\n",
              "      <td>5.36339</td>\n",
              "    </tr>\n",
              "    <tr>\n",
              "      <th>8493</th>\n",
              "      <td>2021-02-02 20:00:00</td>\n",
              "      <td>0.87311</td>\n",
              "      <td>4.98920</td>\n",
              "      <td>5.48812</td>\n",
              "      <td>15.96544</td>\n",
              "      <td>0.24946</td>\n",
              "      <td>NaN</td>\n",
              "      <td>1.24730</td>\n",
              "      <td>1.49676</td>\n",
              "      <td>8.23218</td>\n",
              "      <td>4.73974</td>\n",
              "      <td>0.37419</td>\n",
              "      <td>6.73542</td>\n",
              "      <td>1.87095</td>\n",
              "      <td>3.74190</td>\n",
              "      <td>12.59773</td>\n",
              "      <td>1.87095</td>\n",
              "      <td>1.24730</td>\n",
              "      <td>2.49460</td>\n",
              "      <td>0.37419</td>\n",
              "      <td>3.99136</td>\n",
              "      <td>0.00000</td>\n",
              "      <td>83.69383</td>\n",
              "      <td>0.00000</td>\n",
              "      <td>0.24946</td>\n",
              "      <td>0.62365</td>\n",
              "      <td>0.87311</td>\n",
              "      <td>1.12257</td>\n",
              "      <td>0.24946</td>\n",
              "      <td>3.99136</td>\n",
              "      <td>1.87095</td>\n",
              "      <td>3.36771</td>\n",
              "      <td>0.24946</td>\n",
              "      <td>1.12257</td>\n",
              "      <td>0.99784</td>\n",
              "      <td>7.48380</td>\n",
              "      <td>0.87311</td>\n",
              "      <td>4.73974</td>\n",
              "      <td>3.86663</td>\n",
              "      <td>32.30507</td>\n",
              "      <td>...</td>\n",
              "      <td>57.37580</td>\n",
              "      <td>3.74190</td>\n",
              "      <td>1.49676</td>\n",
              "      <td>25.56965</td>\n",
              "      <td>136.20516</td>\n",
              "      <td>84.31748</td>\n",
              "      <td>55.50485</td>\n",
              "      <td>NaN</td>\n",
              "      <td>7.23434</td>\n",
              "      <td>4.73974</td>\n",
              "      <td>0.49892</td>\n",
              "      <td>NaN</td>\n",
              "      <td>22.95032</td>\n",
              "      <td>0.00000</td>\n",
              "      <td>0.24946</td>\n",
              "      <td>5.98704</td>\n",
              "      <td>1.99568</td>\n",
              "      <td>38.91576</td>\n",
              "      <td>1.37203</td>\n",
              "      <td>0.99784</td>\n",
              "      <td>NaN</td>\n",
              "      <td>1.37203</td>\n",
              "      <td>1.24730</td>\n",
              "      <td>1.37203</td>\n",
              "      <td>0.37419</td>\n",
              "      <td>0.62365</td>\n",
              "      <td>4.61501</td>\n",
              "      <td>1.24730</td>\n",
              "      <td>0.49892</td>\n",
              "      <td>2.36987</td>\n",
              "      <td>1.49676</td>\n",
              "      <td>0.00000</td>\n",
              "      <td>27.19114</td>\n",
              "      <td>1.49676</td>\n",
              "      <td>1.62149</td>\n",
              "      <td>6.23650</td>\n",
              "      <td>9.35475</td>\n",
              "      <td>0.49892</td>\n",
              "      <td>0.24946</td>\n",
              "      <td>2.36987</td>\n",
              "    </tr>\n",
              "    <tr>\n",
              "      <th>8494</th>\n",
              "      <td>2021-02-02 21:00:00</td>\n",
              "      <td>0.37419</td>\n",
              "      <td>5.61285</td>\n",
              "      <td>4.36555</td>\n",
              "      <td>7.48380</td>\n",
              "      <td>0.12473</td>\n",
              "      <td>NaN</td>\n",
              "      <td>1.37203</td>\n",
              "      <td>1.12257</td>\n",
              "      <td>7.35907</td>\n",
              "      <td>4.86447</td>\n",
              "      <td>0.24946</td>\n",
              "      <td>6.98488</td>\n",
              "      <td>0.87311</td>\n",
              "      <td>5.73758</td>\n",
              "      <td>13.22138</td>\n",
              "      <td>1.74622</td>\n",
              "      <td>0.74838</td>\n",
              "      <td>2.86879</td>\n",
              "      <td>0.24946</td>\n",
              "      <td>3.36771</td>\n",
              "      <td>0.00000</td>\n",
              "      <td>43.65550</td>\n",
              "      <td>0.00000</td>\n",
              "      <td>0.37419</td>\n",
              "      <td>0.37419</td>\n",
              "      <td>0.00000</td>\n",
              "      <td>1.99568</td>\n",
              "      <td>0.24946</td>\n",
              "      <td>2.12041</td>\n",
              "      <td>1.74622</td>\n",
              "      <td>2.86879</td>\n",
              "      <td>0.24946</td>\n",
              "      <td>0.62365</td>\n",
              "      <td>0.37419</td>\n",
              "      <td>5.23866</td>\n",
              "      <td>0.74838</td>\n",
              "      <td>2.99352</td>\n",
              "      <td>3.24298</td>\n",
              "      <td>31.93088</td>\n",
              "      <td>...</td>\n",
              "      <td>49.01889</td>\n",
              "      <td>7.48380</td>\n",
              "      <td>15.09233</td>\n",
              "      <td>33.30291</td>\n",
              "      <td>191.71001</td>\n",
              "      <td>97.78832</td>\n",
              "      <td>85.81424</td>\n",
              "      <td>NaN</td>\n",
              "      <td>3.86663</td>\n",
              "      <td>7.48380</td>\n",
              "      <td>0.37419</td>\n",
              "      <td>NaN</td>\n",
              "      <td>14.46868</td>\n",
              "      <td>0.00000</td>\n",
              "      <td>0.24946</td>\n",
              "      <td>3.99136</td>\n",
              "      <td>1.87095</td>\n",
              "      <td>18.70950</td>\n",
              "      <td>1.49676</td>\n",
              "      <td>0.74838</td>\n",
              "      <td>NaN</td>\n",
              "      <td>0.99784</td>\n",
              "      <td>0.87311</td>\n",
              "      <td>1.24730</td>\n",
              "      <td>0.37419</td>\n",
              "      <td>0.87311</td>\n",
              "      <td>2.36987</td>\n",
              "      <td>1.24730</td>\n",
              "      <td>0.62365</td>\n",
              "      <td>2.36987</td>\n",
              "      <td>1.37203</td>\n",
              "      <td>0.24946</td>\n",
              "      <td>25.81911</td>\n",
              "      <td>0.74838</td>\n",
              "      <td>1.37203</td>\n",
              "      <td>4.24082</td>\n",
              "      <td>8.48164</td>\n",
              "      <td>0.37419</td>\n",
              "      <td>0.12473</td>\n",
              "      <td>1.99568</td>\n",
              "    </tr>\n",
              "    <tr>\n",
              "      <th>8495</th>\n",
              "      <td>2021-02-02 22:00:00</td>\n",
              "      <td>0.00000</td>\n",
              "      <td>5.61285</td>\n",
              "      <td>3.24298</td>\n",
              "      <td>3.99136</td>\n",
              "      <td>0.37419</td>\n",
              "      <td>NaN</td>\n",
              "      <td>1.74622</td>\n",
              "      <td>0.99784</td>\n",
              "      <td>15.09233</td>\n",
              "      <td>1.99568</td>\n",
              "      <td>0.24946</td>\n",
              "      <td>3.74190</td>\n",
              "      <td>0.74838</td>\n",
              "      <td>3.61717</td>\n",
              "      <td>10.22786</td>\n",
              "      <td>1.37203</td>\n",
              "      <td>0.99784</td>\n",
              "      <td>2.61933</td>\n",
              "      <td>0.37419</td>\n",
              "      <td>3.36771</td>\n",
              "      <td>0.00000</td>\n",
              "      <td>23.32451</td>\n",
              "      <td>0.00000</td>\n",
              "      <td>0.12473</td>\n",
              "      <td>0.00000</td>\n",
              "      <td>0.00000</td>\n",
              "      <td>7.23434</td>\n",
              "      <td>0.37419</td>\n",
              "      <td>2.99352</td>\n",
              "      <td>1.87095</td>\n",
              "      <td>2.24514</td>\n",
              "      <td>0.24946</td>\n",
              "      <td>0.87311</td>\n",
              "      <td>0.24946</td>\n",
              "      <td>2.49460</td>\n",
              "      <td>0.62365</td>\n",
              "      <td>2.49460</td>\n",
              "      <td>1.87095</td>\n",
              "      <td>33.80183</td>\n",
              "      <td>...</td>\n",
              "      <td>33.05345</td>\n",
              "      <td>2.86879</td>\n",
              "      <td>6.48596</td>\n",
              "      <td>43.03185</td>\n",
              "      <td>208.42383</td>\n",
              "      <td>103.77536</td>\n",
              "      <td>143.93842</td>\n",
              "      <td>NaN</td>\n",
              "      <td>2.86879</td>\n",
              "      <td>14.84287</td>\n",
              "      <td>0.24946</td>\n",
              "      <td>NaN</td>\n",
              "      <td>10.60205</td>\n",
              "      <td>0.00000</td>\n",
              "      <td>0.12473</td>\n",
              "      <td>2.86879</td>\n",
              "      <td>2.12041</td>\n",
              "      <td>10.72678</td>\n",
              "      <td>0.99784</td>\n",
              "      <td>0.49892</td>\n",
              "      <td>NaN</td>\n",
              "      <td>0.99784</td>\n",
              "      <td>0.49892</td>\n",
              "      <td>0.87311</td>\n",
              "      <td>0.37419</td>\n",
              "      <td>0.12473</td>\n",
              "      <td>1.12257</td>\n",
              "      <td>0.99784</td>\n",
              "      <td>0.37419</td>\n",
              "      <td>1.37203</td>\n",
              "      <td>0.99784</td>\n",
              "      <td>0.12473</td>\n",
              "      <td>8.10745</td>\n",
              "      <td>0.99784</td>\n",
              "      <td>1.12257</td>\n",
              "      <td>1.99568</td>\n",
              "      <td>3.49244</td>\n",
              "      <td>0.49892</td>\n",
              "      <td>0.12473</td>\n",
              "      <td>1.99568</td>\n",
              "    </tr>\n",
              "    <tr>\n",
              "      <th>8496</th>\n",
              "      <td>2021-02-02 23:00:00</td>\n",
              "      <td>0.12473</td>\n",
              "      <td>4.24082</td>\n",
              "      <td>2.36987</td>\n",
              "      <td>2.61933</td>\n",
              "      <td>0.24946</td>\n",
              "      <td>NaN</td>\n",
              "      <td>1.37203</td>\n",
              "      <td>0.62365</td>\n",
              "      <td>7.73326</td>\n",
              "      <td>1.99568</td>\n",
              "      <td>0.00000</td>\n",
              "      <td>4.24082</td>\n",
              "      <td>0.99784</td>\n",
              "      <td>2.36987</td>\n",
              "      <td>4.86447</td>\n",
              "      <td>1.24730</td>\n",
              "      <td>0.49892</td>\n",
              "      <td>0.74838</td>\n",
              "      <td>0.24946</td>\n",
              "      <td>2.86879</td>\n",
              "      <td>0.00000</td>\n",
              "      <td>21.57829</td>\n",
              "      <td>0.00000</td>\n",
              "      <td>0.24946</td>\n",
              "      <td>0.00000</td>\n",
              "      <td>0.00000</td>\n",
              "      <td>1.37203</td>\n",
              "      <td>0.12473</td>\n",
              "      <td>1.99568</td>\n",
              "      <td>0.99784</td>\n",
              "      <td>1.99568</td>\n",
              "      <td>0.24946</td>\n",
              "      <td>1.24730</td>\n",
              "      <td>0.24946</td>\n",
              "      <td>6.23650</td>\n",
              "      <td>0.49892</td>\n",
              "      <td>1.49676</td>\n",
              "      <td>2.12041</td>\n",
              "      <td>37.29427</td>\n",
              "      <td>...</td>\n",
              "      <td>6.98488</td>\n",
              "      <td>NaN</td>\n",
              "      <td>0.62365</td>\n",
              "      <td>15.59125</td>\n",
              "      <td>152.04587</td>\n",
              "      <td>78.20571</td>\n",
              "      <td>79.45301</td>\n",
              "      <td>NaN</td>\n",
              "      <td>2.24514</td>\n",
              "      <td>14.71814</td>\n",
              "      <td>0.37419</td>\n",
              "      <td>NaN</td>\n",
              "      <td>4.98920</td>\n",
              "      <td>0.00000</td>\n",
              "      <td>NaN</td>\n",
              "      <td>2.24514</td>\n",
              "      <td>1.12257</td>\n",
              "      <td>4.98920</td>\n",
              "      <td>0.62365</td>\n",
              "      <td>0.62365</td>\n",
              "      <td>NaN</td>\n",
              "      <td>0.87311</td>\n",
              "      <td>0.49892</td>\n",
              "      <td>0.99784</td>\n",
              "      <td>0.24946</td>\n",
              "      <td>0.37419</td>\n",
              "      <td>0.49892</td>\n",
              "      <td>NaN</td>\n",
              "      <td>0.24946</td>\n",
              "      <td>0.62365</td>\n",
              "      <td>1.12257</td>\n",
              "      <td>0.00000</td>\n",
              "      <td>4.61501</td>\n",
              "      <td>0.12473</td>\n",
              "      <td>0.99784</td>\n",
              "      <td>1.12257</td>\n",
              "      <td>5.86231</td>\n",
              "      <td>0.49892</td>\n",
              "      <td>0.00000</td>\n",
              "      <td>4.49028</td>\n",
              "    </tr>\n",
              "  </tbody>\n",
              "</table>\n",
              "<p>8496 rows × 164 columns</p>\n",
              "</div>"
            ],
            "text/plain": [
              "             Date & Time  Aberdeen  ...  York Bootham  York Fishergate\n",
              "1    2020-02-15 00:00:00   1.10809  ...       0.23247          6.81154\n",
              "2    2020-02-15 01:00:00   0.53726  ...       0.30995          3.12731\n",
              "3    2020-02-15 02:00:00   0.60441  ...       0.29058          2.21697\n",
              "4    2020-02-15 03:00:00   0.67157  ...       0.26153          3.63068\n",
              "5    2020-02-15 04:00:00   0.70515  ...       0.14529          1.60650\n",
              "...                  ...       ...  ...           ...              ...\n",
              "8492 2021-02-02 19:00:00   1.37203  ...       0.37419          5.36339\n",
              "8493 2021-02-02 20:00:00   0.87311  ...       0.24946          2.36987\n",
              "8494 2021-02-02 21:00:00   0.37419  ...       0.12473          1.99568\n",
              "8495 2021-02-02 22:00:00   0.00000  ...       0.12473          1.99568\n",
              "8496 2021-02-02 23:00:00   0.12473  ...       0.00000          4.49028\n",
              "\n",
              "[8496 rows x 164 columns]"
            ]
          },
          "metadata": {
            "tags": []
          },
          "execution_count": 69
        }
      ]
    },
    {
      "cell_type": "markdown",
      "metadata": {
        "id": "498-btyJBSdk"
      },
      "source": [
        "We can now look at the data and view the different locations. To do this we do the following (although this does truncate some of the names). "
      ]
    },
    {
      "cell_type": "code",
      "metadata": {
        "colab": {
          "base_uri": "https://localhost:8080/"
        },
        "id": "7i7Kbi4QBaJp",
        "outputId": "2afc149e-c04a-450d-d985-fb19f55b62fe"
      },
      "source": [
        "df.columns"
      ],
      "execution_count": null,
      "outputs": [
        {
          "output_type": "execute_result",
          "data": {
            "text/plain": [
              "Index(['Date & Time', 'Aberdeen', 'Aberdeen Union Street Roadside',\n",
              "       'Aberdeen Wellington Road', 'Armagh Roadside', 'Aston Hill',\n",
              "       'Auchencorth Moss', 'Ballymena Antrim Road', 'Ballymena Ballykeel',\n",
              "       'Barnsley Gawber',\n",
              "       ...\n",
              "       'West Bromwich Kenrick Park', 'Wicken Fen', 'Widnes Milton Road',\n",
              "       'Wigan Centre', 'Wirral Tranmere', 'Worthing A27 Roadside', 'Wrexham',\n",
              "       'Yarner Wood', 'York Bootham', 'York Fishergate'],\n",
              "      dtype='object', length=164)"
            ]
          },
          "metadata": {
            "tags": []
          },
          "execution_count": 70
        }
      ]
    },
    {
      "cell_type": "markdown",
      "metadata": {
        "id": "T4UkgrxkBiza"
      },
      "source": [
        "Below are all of the possible DEFRA stations data. We can select based on their names:\n",
        "\n",
        "Aberdeen, Armagh Roadside, Auchencorth Moss, Barnstaple A39, Belfast Centre, Belfast Stockman's Lane, Birmingham A4540 Roadside, Birmingham Acocks Green, Birmingham Ladywood, Blackpool Marton, Bristol St Paul's, Bristol Temple Way, Bury Whitefield Roadside, Camden Kerbside, Canterbury, Cardiff Centre, Cardiff Newport Road, Carlisle Roadside, Chatham Roadside, Chepstow A48, Chesterfield Loundsley Green, Chesterfield Roadside, Chilbolton Observatory, Coventry Allesley, Coventry Binley Road, Cwmbran, Derry Rosemount, Ealing Horn Lane, Eastbourne, Edinburgh St Leonards, Glasgow High Street, Glasgow Kerbside, Glasgow Townhead, Grangemouth, Greenock A8 Roadside, Haringey Roadside, Hull Freetown, Hull Holderness Road, Inverness, Leamington Spa, Leamington Spa Rugby Road, Leeds Centre, Leeds Headingley Kerbside, Leicester A594 Roadside, Leicester University, Liverpool Speke, London Bexley, London Bloomsbury, London Eltham, London Harlington, London Hillingdon, London Honor Oak Park, London Marylebone Road, London N. Kensington, London Teddington Bushy Park, Lough Navar, Manchester Piccadilly, Middlesbrough, Narberth, Newcastle Centre, Newcastle Cradlewell Roadside, Newport, Norwich Lakenfields, Nottingham Centre, Nottingham Western Boulevard, Oxford St Ebbes, Plymouth Centre, Port Talbot Margam, Portsmouth, Portsmouth Anglesea Road, Preston, Reading London Road, Reading New Town, Rochester Stoke, Salford Eccles, Saltash Callington Road, Sandy Roadside, Scunthorpe Town, Sheffield Devonshire Green, Southampton A33, Southampton Centre, Southend-on-Sea, Southwark A2 Old Kent Road, St Helens Linkway, Stanford-le-Hope Roadside, Stockton-on-Tees Eaglescliffe, Stoke-on-Trent A50 Roadside, Stoke-on-Trent Centre, Storrington Roadside, Sunderland Silksworth, Swansea Roadside, Thurrock, Warrington, Wigan Centre, Wirral Tranmere, Wrexham, York Bootham, York Fishergate\n",
        "\n",
        "From here on you will be able to apply the same codes to any of the datasets. There will be seperate sheets for each of these. "
      ]
    },
    {
      "cell_type": "code",
      "metadata": {
        "id": "DFH6-JNeCxyr"
      },
      "source": [
        "#Here we will randomly select a place \n",
        "time = df['Date & Time'].array # here we read the date and time\n",
        "data = df['Sheffield Devonshire Green'].array.to_numpy() # we can choose any place based on the location you can see we use .array.to_numpy() to make this into a set of numbers"
      ],
      "execution_count": null,
      "outputs": []
    },
    {
      "cell_type": "code",
      "metadata": {
        "colab": {
          "base_uri": "https://localhost:8080/"
        },
        "id": "RPMuJ-j2prTI",
        "outputId": "2b7c7e7b-6ba8-4cc3-efc7-fe8b62dac00d"
      },
      "source": [
        "print(data)"
      ],
      "execution_count": null,
      "outputs": [
        {
          "output_type": "stream",
          "text": [
            "[0.3751  0.25007 0.28133 ...     nan     nan     nan]\n"
          ],
          "name": "stdout"
        }
      ]
    },
    {
      "cell_type": "markdown",
      "metadata": {
        "id": "52cwJhV2EG4T"
      },
      "source": [
        "We can not plot these data to see what they look like:"
      ]
    },
    {
      "cell_type": "code",
      "metadata": {
        "colab": {
          "base_uri": "https://localhost:8080/",
          "height": 285
        },
        "id": "VNYdVeYeEJz4",
        "outputId": "cbd30ccb-50ee-4664-d56c-591011c9e894"
      },
      "source": [
        "import matplotlib.pyplot as plt \n",
        "# here there is a tonne of data so we can be selective what we choose\n",
        "start_val = 1\n",
        "end_val = 8000\n",
        "step = 1;\n",
        "plt.figure(figsize=(30,5)) # here we can change the size of the figure \n",
        "plt.plot(time[range(start_val,end_val,step)], data[range(start_val,end_val,step)])\n",
        "plt.ylabel('NO$_2$')\n",
        "plt.xlabel('Date')\n",
        "plt.title('Liverpool Speke NO$_2$')"
      ],
      "execution_count": null,
      "outputs": [
        {
          "output_type": "execute_result",
          "data": {
            "text/plain": [
              "Text(0.5, 1.0, 'Liverpool Speke NO$_2$')"
            ]
          },
          "metadata": {
            "tags": []
          },
          "execution_count": 89
        },
        {
          "output_type": "display_data",
          "data": {
            "image/png": "[encoded data removed]",
            "text/plain": [
              "<Figure size 2160x360 with 1 Axes>"
            ]
          },
          "metadata": {
            "tags": [],
            "needs_background": "light"
          }
        }
      ]
    },
    {
      "cell_type": "markdown",
      "metadata": {
        "id": "J12NITAOMJyN"
      },
      "source": [
        "OK, we now have the raw data in and we can begin to do some statistics. You also have to remember this is real world data. This means there is often gaps in it. We will address this when we come to look at the statistics. "
      ]
    },
    {
      "cell_type": "markdown",
      "metadata": {
        "id": "l6Fz-GNCuFNR"
      },
      "source": [
        "# Let's do some statistics\n",
        "\n",
        "When undertaking statistics, we need first of all to think what are we doing, and why are we doing this statistical analysis. With statistics we need to be pragmatic remember statistics are there to describe datasets, or to be used as a tool to back up evidence often from big data. When  we use statistics we need to think how we can simplify data but also retain important information. Some of the most important statistics can be from really simple measures for example an average provides us and magnitude which we can base many findings. Maybe we want to look into higher order statistics looking at things like standard deviations, the standard deviation shows us how data deviates how it deviates around the mean and how actually we have some meaningful noise or variance associated to a particular signal. This particular variance could relate to fluctuations in pollution that we might see throughout the day. We might even want to extend or analysis even further by looking at things like modes, in my opinion the mode is one of the most important statistical tools. It can show us how patterns repeat in days it can help us to understand the elucidate the complex relationships between signals which can't be seen from an average alone. However, one thing we need to make sure we do when doing statistics is we need to make sure we understand the tool we are using and not go for the most complex tool in our arsenal. Sometimes from very simple measures we can have very effective results.  "
      ]
    },
    {
      "cell_type": "markdown",
      "metadata": {
        "id": "wknRkjk0MfEh"
      },
      "source": [
        "Now if we take the previous data we can begin to do a whole host of statistics. Let's start with some simple ones."
      ]
    },
    {
      "cell_type": "code",
      "metadata": {
        "id": "G1PDR_EhSkNh"
      },
      "source": [
        "import matplotlib.pyplot as plt \n",
        "import numpy as np\n",
        "# let read the libraries in a keep them here "
      ],
      "execution_count": null,
      "outputs": []
    },
    {
      "cell_type": "code",
      "metadata": {
        "colab": {
          "base_uri": "https://localhost:8080/"
        },
        "id": "qbJt4UasMeY1",
        "outputId": "b4b8b9a9-0a6d-4e4f-fcb5-43db7792ee07"
      },
      "source": [
        "#calculating the average \n",
        "average = np.nanmean(data) #here we use nanmean to ignore all the points which have been missed \n",
        "print(average)"
      ],
      "execution_count": null,
      "outputs": [
        {
          "output_type": "stream",
          "text": [
            "4.9341294105063\n"
          ],
          "name": "stdout"
        }
      ]
    },
    {
      "cell_type": "code",
      "metadata": {
        "colab": {
          "base_uri": "https://localhost:8080/"
        },
        "id": "j65_01KrM_Ox",
        "outputId": "7a063f9c-7d9f-4582-e81a-87dc35a36ec6"
      },
      "source": [
        "#calculating the standard deviation \n",
        "std = np.nanstd(data)\n",
        "print(std)"
      ],
      "execution_count": null,
      "outputs": [
        {
          "output_type": "stream",
          "text": [
            "12.556758407994272\n"
          ],
          "name": "stdout"
        }
      ]
    },
    {
      "cell_type": "code",
      "metadata": {
        "colab": {
          "base_uri": "https://localhost:8080/",
          "height": 325
        },
        "id": "VEOH7xZmNKJb",
        "outputId": "9c08d3e8-dd43-40a0-aa8c-452a4ba08885"
      },
      "source": [
        "# now we can plot the histogram \n",
        "counts, bins, bars = plt.hist(data,bins=200,range=[0,4]) #here we can set the number of bins and the ranges \n",
        "plt.ylabel('frequency')\n",
        "plt.xlabel('Concentration µg/m^$3$')\n",
        "plt.title('freq vs. NO2 concentration')"
      ],
      "execution_count": null,
      "outputs": [
        {
          "output_type": "execute_result",
          "data": {
            "text/plain": [
              "Text(0.5, 1.0, 'freq vs. NO2 concentration')"
            ]
          },
          "metadata": {
            "tags": []
          },
          "execution_count": 94
        },
        {
          "output_type": "display_data",
          "data": {
            "image/png": "[encoded data removed]",
            "text/plain": [
              "<Figure size 432x288 with 1 Axes>"
            ]
          },
          "metadata": {
            "tags": [],
            "needs_background": "light"
          }
        }
      ]
    },
    {
      "cell_type": "markdown",
      "metadata": {
        "id": "npUA9huzN-Bb"
      },
      "source": [
        "Next, we might think about filtering the data. Maybe we would like to just look at monthly averages:"
      ]
    },
    {
      "cell_type": "code",
      "metadata": {
        "id": "5v087QH9OKxu"
      },
      "source": [
        "Jan = data[time.month==1]\n",
        "Feb = data[time.month==2]\n",
        "Mar = data[time.month==3]\n",
        "Apr = data[time.month==4]\n",
        "May = data[time.month==5]\n",
        "Jun = data[time.month==6]\n",
        "Jul = data[time.month==7]\n",
        "Aug = data[time.month==8]\n",
        "Sep = data[time.month==9]\n",
        "Oct = data[time.month==10]\n",
        "Nov = data[time.month==11]\n",
        "Dec = data[time.month==12]\n"
      ],
      "execution_count": null,
      "outputs": []
    },
    {
      "cell_type": "code",
      "metadata": {
        "colab": {
          "base_uri": "https://localhost:8080/"
        },
        "id": "5ifRvGsAQhGC",
        "outputId": "bafef282-dc87-4418-9ce7-0738ee073da0"
      },
      "source": [
        "# we could do this; but we could also do something with loops and calulate some stats\n",
        "c = 0;\n",
        "av = np.zeros([12,1]) # here we need to pre allocate our matrix \n",
        "for i in range(1,13):\n",
        "  av[c] = np.nanmean(data[time.month==i]);\n",
        "  c = c+1;\n",
        "print(av)\n"
      ],
      "execution_count": null,
      "outputs": [
        {
          "output_type": "stream",
          "text": [
            "[[ 7.37223501]\n",
            " [ 5.16708621]\n",
            " [ 5.03006568]\n",
            " [ 1.90384404]\n",
            " [ 1.95193271]\n",
            " [ 2.85903229]\n",
            " [ 2.37829511]\n",
            " [ 2.35235895]\n",
            " [ 4.72865651]\n",
            " [ 3.40401162]\n",
            " [12.64204291]\n",
            " [ 9.5105518 ]]\n"
          ],
          "name": "stdout"
        }
      ]
    },
    {
      "cell_type": "code",
      "metadata": {
        "colab": {
          "base_uri": "https://localhost:8080/",
          "height": 305
        },
        "id": "nMK7GTj4RYoG",
        "outputId": "e76e81bd-1715-4ada-aeff-3f2b1e80ca31"
      },
      "source": [
        "#we can now plot these data to show the monthly averages\n",
        "plt.plot(range(1,13),av)\n",
        "plt.ylabel('Concentration µg/m$^3$')\n",
        "plt.xlabel('Month')"
      ],
      "execution_count": null,
      "outputs": [
        {
          "output_type": "execute_result",
          "data": {
            "text/plain": [
              "Text(0.5, 0, 'Month')"
            ]
          },
          "metadata": {
            "tags": []
          },
          "execution_count": 97
        },
        {
          "output_type": "display_data",
          "data": {
            "image/png": "[encoded data removed]",
            "text/plain": [
              "<Figure size 432x288 with 1 Axes>"
            ]
          },
          "metadata": {
            "tags": [],
            "needs_background": "light"
          }
        }
      ]
    },
    {
      "cell_type": "markdown",
      "metadata": {
        "id": "_qZmGmDmRltY"
      },
      "source": [
        "This quite clearly shows that there is a dip in NO2 in the summer months, of course this makes sense as people will drive less in the summer!"
      ]
    },
    {
      "cell_type": "code",
      "metadata": {
        "id": "8zJqj6AVRxz6"
      },
      "source": [
        "#We could now even look at the daily averages and their standard deviations \n",
        "av_days = np.zeros([7,1])\n",
        "std_days = np.zeros([7,1])\n",
        "c = 0;\n",
        "for i in range(1,8): # here we just count through the days in the week i.e. mon = 1, tues = 2 etc etc \n",
        "  av_days[c]=np.nanmean(data[time.day==i])\n",
        "  std_days[c]=np.nanstd(data[time.day==i])\n",
        "  c=c+1;"
      ],
      "execution_count": null,
      "outputs": []
    },
    {
      "cell_type": "code",
      "metadata": {
        "colab": {
          "base_uri": "https://localhost:8080/",
          "height": 305
        },
        "id": "-ZRlxrU9SaV0",
        "outputId": "188ce790-c0b6-4711-e710-f0128286bd65"
      },
      "source": [
        "plt.plot(range(1,8),av_days)\n",
        "#we can even add some confidence bars i.e. the sandard deviation\n",
        "plt.plot(range(1,8),av_days-std_days)\n",
        "plt.plot(range(1,8),av_days+std_days)\n",
        "plt.ylabel('Concentration µg/m$^3$')\n",
        "plt.xlabel('Day')"
      ],
      "execution_count": null,
      "outputs": [
        {
          "output_type": "execute_result",
          "data": {
            "text/plain": [
              "Text(0.5, 0, 'Day')"
            ]
          },
          "metadata": {
            "tags": []
          },
          "execution_count": 99
        },
        {
          "output_type": "display_data",
          "data": {
            "image/png": "[encoded data removed]",
            "text/plain": [
              "<Figure size 432x288 with 1 Axes>"
            ]
          },
          "metadata": {
            "tags": [],
            "needs_background": "light"
          }
        }
      ]
    },
    {
      "cell_type": "markdown",
      "metadata": {
        "id": "0--Upak2Ten0"
      },
      "source": [
        "Quite clearly we can see during the week NO2 charges up and then drops as we get to weekends..."
      ]
    },
    {
      "cell_type": "code",
      "metadata": {
        "id": "Fn-0nP4zThj5"
      },
      "source": [
        "#finally how about we look at hourly measurments\n",
        "av_hours = np.zeros([24,1])\n",
        "std_hours = np.zeros([24,1])\n",
        "c = 0;\n",
        "for i in range(0,24): # here we just count through the days in the week i.e. mon = 1, tues = 2 etc etc \n",
        "  av_hours[c]=np.nanmean(data[time.hour==i])\n",
        "  std_hours[c]=np.nanstd(data[time.hour==i])\n",
        "  c=c+1;"
      ],
      "execution_count": null,
      "outputs": []
    },
    {
      "cell_type": "code",
      "metadata": {
        "colab": {
          "base_uri": "https://localhost:8080/",
          "height": 305
        },
        "id": "QujDbmLpTzaj",
        "outputId": "a536d5af-76fe-42ec-d98a-c2aaa43cac2e"
      },
      "source": [
        "plt.plot(range(0,24),av_hours)\n",
        "#we can even add some confidence bars i.e. the sandard deviation\n",
        "plt.plot(range(0,24),av_hours-std_hours)\n",
        "plt.plot(range(0,24),av_hours+std_hours)\n",
        "plt.ylabel('Concentration µg/m$^3$')\n",
        "plt.xlabel('Hour')"
      ],
      "execution_count": null,
      "outputs": [
        {
          "output_type": "execute_result",
          "data": {
            "text/plain": [
              "Text(0.5, 0, 'Hour')"
            ]
          },
          "metadata": {
            "tags": []
          },
          "execution_count": 102
        },
        {
          "output_type": "display_data",
          "data": {
            "image/png": "[encoded data removed]",
            "text/plain": [
              "<Figure size 432x288 with 1 Axes>"
            ]
          },
          "metadata": {
            "tags": [],
            "needs_background": "light"
          }
        }
      ]
    },
    {
      "cell_type": "markdown",
      "metadata": {
        "id": "LkclnoyUUAKm"
      },
      "source": [
        "Wow...that's cool...clearly we can now see the commute times! "
      ]
    },
    {
      "cell_type": "markdown",
      "metadata": {
        "id": "j4qyLuqfPQUG"
      },
      "source": [
        "#So that's it\n",
        "So that is basically it for Python, and my programming. There is so much more you can do...the internet is now your oyster. I hope you can see how powerfull such a tool can be...try and use it in this module...its a really cool tool to know and a great asset for your CV. "
      ]
    },
    {
      "cell_type": "code",
      "metadata": {
        "id": "376IpXKYuKlE",
        "colab": {
          "base_uri": "https://localhost:8080/",
          "height": 35
        },
        "outputId": "642b8ec3-e673-4dd5-a23c-9a1a05eb937d"
      },
      "source": [
        "df.columns[30]"
      ],
      "execution_count": null,
      "outputs": [
        {
          "output_type": "execute_result",
          "data": {
            "application/vnd.google.colaboratory.intrinsic+json": {
              "type": "string"
            },
            "text/plain": [
              "'Camden Kerbside'"
            ]
          },
          "metadata": {
            "tags": []
          },
          "execution_count": 105
        }
      ]
    }
  ]
}